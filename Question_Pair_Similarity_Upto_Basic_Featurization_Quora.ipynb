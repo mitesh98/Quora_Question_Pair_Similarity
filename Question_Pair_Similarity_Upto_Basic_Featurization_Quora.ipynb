{
  "nbformat": 4,
  "nbformat_minor": 0,
  "metadata": {
    "colab": {
      "name": "Question Pair Similarity_Upto_Basic_Featurization-Quora.ipynb",
      "provenance": [],
      "include_colab_link": true
    },
    "kernelspec": {
      "name": "python3",
      "display_name": "Python 3"
    },
    "accelerator": "TPU"
  },
  "cells": [
    {
      "cell_type": "markdown",
      "metadata": {
        "id": "view-in-github",
        "colab_type": "text"
      },
      "source": [
        "<a href=\"https://colab.research.google.com/github/mitesh98/Quora_Question_Pair_Similarity/blob/master/Question_Pair_Similarity_Upto_Basic_Featurization_Quora.ipynb\" target=\"_parent\"><img src=\"https://colab.research.google.com/assets/colab-badge.svg\" alt=\"Open In Colab\"/></a>"
      ]
    },
    {
      "cell_type": "markdown",
      "metadata": {
        "id": "6rUvXbl3W68w",
        "colab_type": "text"
      },
      "source": [
        "# Quora Question Pairs\n",
        "# 1. Business Problem\n",
        "**1.1 Description**\n",
        "\n",
        "Quora is a place to gain and share knowledge—about anything. It’s a platform to ask questions and connect with people who contribute unique insights and quality answers. This empowers people to learn from each other and to better understand the world.\n",
        "\n",
        "Over 100 million people visit Quora every month, so it's no surprise that many people ask similarly worded questions. Multiple questions with the same intent can cause seekers to spend more time finding the best answer to their question, and make writers feel they need to answer multiple versions of the same question. Quora values canonical questions because they provide a better experience to active seekers and writers, and offer more value to both of these groups in the long term.\n",
        "\n",
        "\n",
        "Credits: Kaggle"
      ]
    },
    {
      "cell_type": "markdown",
      "metadata": {
        "id": "0J587zk2XFtr",
        "colab_type": "text"
      },
      "source": [
        "**Problem Statement**\n",
        "*   Identify which questions asked on Quora are duplicates of questions that have already been asked.\n",
        "*  This could be useful to instantly provide answers to questions that have already been answered.\n",
        "*  We are tasked with predicting whether a pair of questions are duplicates or not.\n",
        "\n",
        "\n",
        "\n",
        "\n",
        "\n"
      ]
    },
    {
      "cell_type": "markdown",
      "metadata": {
        "id": "mrc2_SOgXVIr",
        "colab_type": "text"
      },
      "source": [
        "**1.2 Sources/Useful Links**\n",
        "\n",
        "**Source** : https://www.kaggle.com/c/quora-question-pairs \n",
        "\n",
        "\n",
        "\n"
      ]
    },
    {
      "cell_type": "markdown",
      "metadata": {
        "id": "B-yrC6-wXrYN",
        "colab_type": "text"
      },
      "source": [
        "# 1.3 Real world/Business Objectives and Constraints\n",
        "\n",
        "1.   The cost of a mis-classification can be very high.\n",
        "\n",
        "2.   You would want a probability of a pair of questions to be duplicates so that you can choose any threshold of choice.\n",
        "\n",
        "3.   No strict latency concerns.\n",
        "\n",
        "4.   Interpretability is partially important.\n",
        "\n",
        "\n"
      ]
    },
    {
      "cell_type": "markdown",
      "metadata": {
        "id": "1-lISABu7t6a",
        "colab_type": "text"
      },
      "source": [
        "# 2. Machine Learning Probelm\n",
        "# 2.1 Data\n",
        "- Data will be in a file Train.csv \n",
        "- Train.csv contains 5 columns : qid1, qid2, question1, question2, is_duplicate \n",
        "- Size of Train.csv - 60MB \n",
        "- Number of rows in Train.csv = 404,290"
      ]
    },
    {
      "cell_type": "markdown",
      "metadata": {
        "id": "qqf5U1OQ86d6",
        "colab_type": "text"
      },
      "source": [
        "# 3. Exploratory Data Analysis"
      ]
    },
    {
      "cell_type": "code",
      "metadata": {
        "id": "Ugh_uz65W0LW",
        "colab_type": "code",
        "colab": {
          "base_uri": "https://localhost:8080/",
          "height": 17
        },
        "outputId": "1c115157-6a79-47fa-db8e-4a87c1e7d774"
      },
      "source": [
        "import numpy as np\n",
        "import pandas as pd\n",
        "import seaborn as sns\n",
        "import matplotlib.pyplot as plt\n",
        "from subprocess import check_output\n",
        "%matplotlib inline\n",
        "import plotly.offline as py\n",
        "py.init_notebook_mode(connected=True)\n",
        "import plotly.graph_objs as go\n",
        "import plotly.tools as tls\n",
        "import os\n",
        "import gc\n",
        "\n",
        "import re\n",
        "from nltk.corpus import stopwords\n",
        "from nltk.stem import PorterStemmer\n",
        "from bs4 import BeautifulSoup\n",
        "\n",
        "import warnings\n",
        "warnings.filterwarnings('ignore')"
      ],
      "execution_count": null,
      "outputs": [
        {
          "output_type": "display_data",
          "data": {
            "text/html": [
              "        <script type=\"text/javascript\">\n",
              "        window.PlotlyConfig = {MathJaxConfig: 'local'};\n",
              "        if (window.MathJax) {MathJax.Hub.Config({SVG: {font: \"STIX-Web\"}});}\n",
              "        if (typeof require !== 'undefined') {\n",
              "        require.undef(\"plotly\");\n",
              "        requirejs.config({\n",
              "            paths: {\n",
              "                'plotly': ['https://cdn.plot.ly/plotly-latest.min']\n",
              "            }\n",
              "        });\n",
              "        require(['plotly'], function(Plotly) {\n",
              "            window._Plotly = Plotly;\n",
              "        });\n",
              "        }\n",
              "        </script>\n",
              "        "
            ]
          },
          "metadata": {
            "tags": []
          }
        }
      ]
    },
    {
      "cell_type": "markdown",
      "metadata": {
        "id": "4CPEBh8s9Kmq",
        "colab_type": "text"
      },
      "source": [
        "# 3.1 Reading data and basic stats"
      ]
    },
    {
      "cell_type": "code",
      "metadata": {
        "id": "yAeIO8FJ5uqz",
        "colab_type": "code",
        "colab": {
          "base_uri": "https://localhost:8080/",
          "height": 122
        },
        "outputId": "e4ce2e6c-a694-4e9d-9f2b-3a0beecfff50"
      },
      "source": [
        "from google.colab import drive\n",
        "drive.mount('/content/drive')"
      ],
      "execution_count": null,
      "outputs": [
        {
          "output_type": "stream",
          "text": [
            "Go to this URL in a browser: https://accounts.google.com/o/oauth2/auth?client_id=947318989803-6bn6qk8qdgf4n4g3pfee6491hc0brc4i.apps.googleusercontent.com&redirect_uri=urn%3aietf%3awg%3aoauth%3a2.0%3aoob&response_type=code&scope=email%20https%3a%2f%2fwww.googleapis.com%2fauth%2fdocs.test%20https%3a%2f%2fwww.googleapis.com%2fauth%2fdrive%20https%3a%2f%2fwww.googleapis.com%2fauth%2fdrive.photos.readonly%20https%3a%2f%2fwww.googleapis.com%2fauth%2fpeopleapi.readonly\n",
            "\n",
            "Enter your authorization code:\n",
            "··········\n",
            "Mounted at /content/drive\n"
          ],
          "name": "stdout"
        }
      ]
    },
    {
      "cell_type": "code",
      "metadata": {
        "id": "7_TysePF6gbR",
        "colab_type": "code",
        "colab": {}
      },
      "source": [
        "!cp '/content/drive/My Drive/Colab Notebooks/train.csv' 'train.csv'"
      ],
      "execution_count": null,
      "outputs": []
    },
    {
      "cell_type": "code",
      "metadata": {
        "id": "stvBGBR_5o9k",
        "colab_type": "code",
        "colab": {
          "base_uri": "https://localhost:8080/",
          "height": 204
        },
        "outputId": "ed731a36-fe4b-4423-9d1c-724b1d4b4875"
      },
      "source": [
        "data=pd.read_csv('train.csv')\n",
        "data.head()"
      ],
      "execution_count": null,
      "outputs": [
        {
          "output_type": "execute_result",
          "data": {
            "text/html": [
              "<div>\n",
              "<style scoped>\n",
              "    .dataframe tbody tr th:only-of-type {\n",
              "        vertical-align: middle;\n",
              "    }\n",
              "\n",
              "    .dataframe tbody tr th {\n",
              "        vertical-align: top;\n",
              "    }\n",
              "\n",
              "    .dataframe thead th {\n",
              "        text-align: right;\n",
              "    }\n",
              "</style>\n",
              "<table border=\"1\" class=\"dataframe\">\n",
              "  <thead>\n",
              "    <tr style=\"text-align: right;\">\n",
              "      <th></th>\n",
              "      <th>id</th>\n",
              "      <th>qid1</th>\n",
              "      <th>qid2</th>\n",
              "      <th>question1</th>\n",
              "      <th>question2</th>\n",
              "      <th>is_duplicate</th>\n",
              "    </tr>\n",
              "  </thead>\n",
              "  <tbody>\n",
              "    <tr>\n",
              "      <th>0</th>\n",
              "      <td>0</td>\n",
              "      <td>1</td>\n",
              "      <td>2</td>\n",
              "      <td>What is the step by step guide to invest in sh...</td>\n",
              "      <td>What is the step by step guide to invest in sh...</td>\n",
              "      <td>0</td>\n",
              "    </tr>\n",
              "    <tr>\n",
              "      <th>1</th>\n",
              "      <td>1</td>\n",
              "      <td>3</td>\n",
              "      <td>4</td>\n",
              "      <td>What is the story of Kohinoor (Koh-i-Noor) Dia...</td>\n",
              "      <td>What would happen if the Indian government sto...</td>\n",
              "      <td>0</td>\n",
              "    </tr>\n",
              "    <tr>\n",
              "      <th>2</th>\n",
              "      <td>2</td>\n",
              "      <td>5</td>\n",
              "      <td>6</td>\n",
              "      <td>How can I increase the speed of my internet co...</td>\n",
              "      <td>How can Internet speed be increased by hacking...</td>\n",
              "      <td>0</td>\n",
              "    </tr>\n",
              "    <tr>\n",
              "      <th>3</th>\n",
              "      <td>3</td>\n",
              "      <td>7</td>\n",
              "      <td>8</td>\n",
              "      <td>Why am I mentally very lonely? How can I solve...</td>\n",
              "      <td>Find the remainder when [math]23^{24}[/math] i...</td>\n",
              "      <td>0</td>\n",
              "    </tr>\n",
              "    <tr>\n",
              "      <th>4</th>\n",
              "      <td>4</td>\n",
              "      <td>9</td>\n",
              "      <td>10</td>\n",
              "      <td>Which one dissolve in water quikly sugar, salt...</td>\n",
              "      <td>Which fish would survive in salt water?</td>\n",
              "      <td>0</td>\n",
              "    </tr>\n",
              "  </tbody>\n",
              "</table>\n",
              "</div>"
            ],
            "text/plain": [
              "   id  qid1  ...                                          question2 is_duplicate\n",
              "0   0     1  ...  What is the step by step guide to invest in sh...            0\n",
              "1   1     3  ...  What would happen if the Indian government sto...            0\n",
              "2   2     5  ...  How can Internet speed be increased by hacking...            0\n",
              "3   3     7  ...  Find the remainder when [math]23^{24}[/math] i...            0\n",
              "4   4     9  ...            Which fish would survive in salt water?            0\n",
              "\n",
              "[5 rows x 6 columns]"
            ]
          },
          "metadata": {
            "tags": []
          },
          "execution_count": 4
        }
      ]
    },
    {
      "cell_type": "markdown",
      "metadata": {
        "id": "TEJGZ7Sw71lY",
        "colab_type": "text"
      },
      "source": [
        ""
      ]
    },
    {
      "cell_type": "code",
      "metadata": {
        "id": "spRLaIW67PnX",
        "colab_type": "code",
        "colab": {
          "base_uri": "https://localhost:8080/",
          "height": 204
        },
        "outputId": "98ae06e6-94e3-4dbe-c01c-47dd64d47c10"
      },
      "source": [
        "data.info()"
      ],
      "execution_count": null,
      "outputs": [
        {
          "output_type": "stream",
          "text": [
            "<class 'pandas.core.frame.DataFrame'>\n",
            "RangeIndex: 404290 entries, 0 to 404289\n",
            "Data columns (total 6 columns):\n",
            "id              404290 non-null int64\n",
            "qid1            404290 non-null int64\n",
            "qid2            404290 non-null int64\n",
            "question1       404289 non-null object\n",
            "question2       404288 non-null object\n",
            "is_duplicate    404290 non-null int64\n",
            "dtypes: int64(4), object(2)\n",
            "memory usage: 18.5+ MB\n"
          ],
          "name": "stdout"
        }
      ]
    },
    {
      "cell_type": "markdown",
      "metadata": {
        "id": "a3IXEoFC9mJX",
        "colab_type": "text"
      },
      "source": [
        "We are given a minimal number of data fields here, consisting of:\n",
        "\n",
        "1. id: Looks like a simple rowID\n",
        "\n",
        "2. qid{1, 2}: The unique ID of each question in the pair\n",
        "\n",
        "3. question{1, 2}: The actual textual contents of the questions.\n",
        "\n",
        "4. is_duplicate: The label that we are trying to predict - whether the two questions are duplicates of each other.\n",
        "\n",
        "# 3.2.1 Distribution of data points among output classes\n",
        "\n",
        "*   Number of duplicate(smilar) and non-duplicate(non similar) questions\n",
        "\n",
        "\n",
        "\n"
      ]
    },
    {
      "cell_type": "code",
      "metadata": {
        "id": "hFLXbH1L91bV",
        "colab_type": "code",
        "colab": {
          "base_uri": "https://localhost:8080/",
          "height": 294
        },
        "outputId": "7348e1f9-b9a4-4653-a026-d7333ac07a43"
      },
      "source": [
        "data.groupby(\"is_duplicate\")[\"id\"].count().plot.bar()"
      ],
      "execution_count": null,
      "outputs": [
        {
          "output_type": "execute_result",
          "data": {
            "text/plain": [
              "<matplotlib.axes._subplots.AxesSubplot at 0x7f64176261d0>"
            ]
          },
          "metadata": {
            "tags": []
          },
          "execution_count": 6
        },
        {
          "output_type": "display_data",
          "data": {
            "image/png": "[encoded data removed]",
            "text/plain": [
              "<Figure size 432x288 with 1 Axes>"
            ]
          },
          "metadata": {
            "tags": []
          }
        }
      ]
    },
    {
      "cell_type": "code",
      "metadata": {
        "id": "z29-spqk-3BA",
        "colab_type": "code",
        "colab": {
          "base_uri": "https://localhost:8080/",
          "height": 68
        },
        "outputId": "baf3a098-7fe0-4035-c3dc-1b2793b20964"
      },
      "source": [
        "n=len(data)\n",
        "x=data[\"is_duplicate\"].value_counts()[0]\n",
        "y=data[\"is_duplicate\"].value_counts()[1]\n",
        "print(\"Total No of Question Pair = \",n)\n",
        "print(\"%age of is_duplicate=0  Pair = \",round(100*x/n,2))\n",
        "print(\"%age of of is_duplicate=1 Pair = \",round(100*y/n,2))"
      ],
      "execution_count": null,
      "outputs": [
        {
          "output_type": "stream",
          "text": [
            "Total No of Question Pair =  404290\n",
            "%age of is_duplicate=0  Pair =  63.08\n",
            "%age of of is_duplicate=1 Pair =  36.92\n"
          ],
          "name": "stdout"
        }
      ]
    },
    {
      "cell_type": "markdown",
      "metadata": {
        "id": "XjGhHjh4EaRr",
        "colab_type": "text"
      },
      "source": [
        "**3.2.2 Number of unique questions**"
      ]
    },
    {
      "cell_type": "code",
      "metadata": {
        "id": "KuuxpyRfCQcr",
        "colab_type": "code",
        "colab": {
          "base_uri": "https://localhost:8080/",
          "height": 34
        },
        "outputId": "da41362f-9ab4-45c2-f505-fdc2f602d993"
      },
      "source": [
        "List_of_qids=[]\n",
        "List_of_qids=data[\"qid1\"].tolist()\n",
        "List_of_qids.extend(data[\"qid2\"].tolist())\n",
        "List_of_unique_qids=list(set(List_of_qids))\n",
        "print(\"Total No of unique question = \",len(List_of_unique_qids))"
      ],
      "execution_count": null,
      "outputs": [
        {
          "output_type": "stream",
          "text": [
            "Total No of unique question =  537933\n"
          ],
          "name": "stdout"
        }
      ]
    },
    {
      "cell_type": "code",
      "metadata": {
        "id": "9GM1t-z2SIdn",
        "colab_type": "code",
        "colab": {
          "base_uri": "https://localhost:8080/",
          "height": 51
        },
        "outputId": "66a36ec1-bdbf-4f01-ef78-06a7e1e21b28"
      },
      "source": [
        "from collections import Counter\n",
        "count=Counter(List_of_qids)\n",
        "type(count)\n",
        "qids_morethan_onetime=list(set(k for k,v in count.items() if v>1))\n",
        "qids_morethan_onetime=list(set(k for k,v in count.items() if v>1))\n",
        "print(\"No of question appears more than one time = \",len(qids_morethan_onetime))\n",
        "print(\"% question appears more than one time = \",round(100*len(qids_morethan_onetime)/len(List_of_unique_qids),2))"
      ],
      "execution_count": null,
      "outputs": [
        {
          "output_type": "stream",
          "text": [
            "No of question appears more than one time =  111780\n",
            "% question appears more than one time =  20.78\n"
          ],
          "name": "stdout"
        }
      ]
    },
    {
      "cell_type": "code",
      "metadata": {
        "id": "LXppU_IaZKZ-",
        "colab_type": "code",
        "colab": {
          "base_uri": "https://localhost:8080/",
          "height": 34
        },
        "outputId": "d0d59f35-7ec7-46e4-848e-2f9520064454"
      },
      "source": [
        "k=count.most_common(1)\n",
        "print(\"Most repeated qid is '\",k[0][0],\"' no of repeatation = \",k[0][1])"
      ],
      "execution_count": null,
      "outputs": [
        {
          "output_type": "stream",
          "text": [
            "Most repeated qid is ' 2559 ' no of repeatation =  157\n"
          ],
          "name": "stdout"
        }
      ]
    },
    {
      "cell_type": "code",
      "metadata": {
        "id": "i74CnRPzhdWA",
        "colab_type": "code",
        "colab": {
          "base_uri": "https://localhost:8080/",
          "height": 265
        },
        "outputId": "91528d6d-19a8-4408-fff6-af072f99ceb1"
      },
      "source": [
        "y=[len(qids_morethan_onetime),len(List_of_unique_qids)]\n",
        "x=[\"Repeated Questions\",\"Unique Questions\"]\n",
        "sns.barplot(x,y)\n",
        "plt.show()"
      ],
      "execution_count": null,
      "outputs": [
        {
          "output_type": "display_data",
          "data": {
            "image/png": "[encoded data removed]",
            "text/plain": [
              "<Figure size 432x288 with 1 Axes>"
            ]
          },
          "metadata": {
            "tags": []
          }
        }
      ]
    },
    {
      "cell_type": "markdown",
      "metadata": {
        "id": "vFBXGZkTiY4Z",
        "colab_type": "text"
      },
      "source": [
        "**3.2.3 Checking for Duplicates**"
      ]
    },
    {
      "cell_type": "code",
      "metadata": {
        "id": "7wmFhvX-iaG-",
        "colab_type": "code",
        "colab": {
          "base_uri": "https://localhost:8080/",
          "height": 34
        },
        "outputId": "3a6c5b7c-a4e2-491e-fab7-2bbaa09715cb"
      },
      "source": [
        "pair_duplicates=data[[\"qid1\",\"qid2\",\"is_duplicate\"]].groupby([\"qid1\",\"qid2\"]).count()\n",
        "print(\"No of duplicates = \",pair_duplicates.shape[0]-data.shape[0])"
      ],
      "execution_count": null,
      "outputs": [
        {
          "output_type": "stream",
          "text": [
            "No of duplicates =  0\n"
          ],
          "name": "stdout"
        }
      ]
    },
    {
      "cell_type": "markdown",
      "metadata": {
        "id": "cTQw2MXymW74",
        "colab_type": "text"
      },
      "source": [
        "**3.2.4 Number of occurrences of each question**"
      ]
    },
    {
      "cell_type": "code",
      "metadata": {
        "id": "NNGQr0tTmX8K",
        "colab_type": "code",
        "colab": {
          "base_uri": "https://localhost:8080/",
          "height": 367
        },
        "outputId": "829d9d7a-50f0-41cc-9ec7-028ed4d04ea6"
      },
      "source": [
        "Series_of_qids=pd.Series(List_of_qids)\n",
        "x=Series_of_qids.value_counts()\n",
        "plt.figure(figsize=(15,5))\n",
        "plt.hist(x,bins=160)\n",
        "plt.yscale('log',nonposy='clip')\n",
        "plt.title('Log-Histogram of question appearance counts')\n",
        "plt.xlabel('Number of occurences of question')\n",
        "plt.ylabel('Number of questions')"
      ],
      "execution_count": null,
      "outputs": [
        {
          "output_type": "execute_result",
          "data": {
            "text/plain": [
              "Text(0, 0.5, 'Number of questions')"
            ]
          },
          "metadata": {
            "tags": []
          },
          "execution_count": 13
        },
        {
          "output_type": "display_data",
          "data": {
            "image/png": "[encoded data removed]",
            "text/plain": [
              "<Figure size 1080x360 with 1 Axes>"
            ]
          },
          "metadata": {
            "tags": []
          }
        }
      ]
    },
    {
      "cell_type": "markdown",
      "metadata": {
        "id": "gAuHDA2FOgKY",
        "colab_type": "text"
      },
      "source": [
        "**3.2.5 Checking for NULL values**"
      ]
    },
    {
      "cell_type": "code",
      "metadata": {
        "id": "qnvfHN-iSIc8",
        "colab_type": "code",
        "colab": {
          "base_uri": "https://localhost:8080/",
          "height": 119
        },
        "outputId": "1936d9d8-3d55-4bb3-f58f-e23384b3cede"
      },
      "source": [
        "nan_rows=data[data.isnull().any(axis=1)]\n",
        "print(nan_rows)"
      ],
      "execution_count": null,
      "outputs": [
        {
          "output_type": "stream",
          "text": [
            "            id  ...  is_duplicate\n",
            "105780  105780  ...             0\n",
            "201841  201841  ...             0\n",
            "363362  363362  ...             0\n",
            "\n",
            "[3 rows x 6 columns]\n"
          ],
          "name": "stdout"
        }
      ]
    },
    {
      "cell_type": "markdown",
      "metadata": {
        "id": "7TvnQU_hS5Fq",
        "colab_type": "text"
      },
      "source": [
        "**Observation :**\n",
        "\n",
        "1.There are 2 rows with null values in question2\n",
        "\n",
        "\n",
        "2.There are 1 row with null values in question1"
      ]
    },
    {
      "cell_type": "code",
      "metadata": {
        "id": "cFPmhKD5ThCX",
        "colab_type": "code",
        "colab": {
          "base_uri": "https://localhost:8080/",
          "height": 68
        },
        "outputId": "9244e46e-f638-4258-9b7c-cb08864f59e4"
      },
      "source": [
        "# Filling the null values with ' '\n",
        "data=data.fillna('')\n",
        "nan_rows=data[data.isnull().any(axis=1)]\n",
        "print(nan_rows)\n"
      ],
      "execution_count": null,
      "outputs": [
        {
          "output_type": "stream",
          "text": [
            "Empty DataFrame\n",
            "Columns: [id, qid1, qid2, question1, question2, is_duplicate]\n",
            "Index: []\n"
          ],
          "name": "stdout"
        }
      ]
    },
    {
      "cell_type": "markdown",
      "metadata": {
        "id": "gm5Zh_YuT9xW",
        "colab_type": "text"
      },
      "source": [
        "# 3.3 Basic Feature Extraction (before cleaning)\n"
      ]
    },
    {
      "cell_type": "markdown",
      "metadata": {
        "id": "XhH2kXk4UH9j",
        "colab_type": "text"
      },
      "source": [
        "Let us now construct a few features like:\n",
        "\n",
        "\n",
        "*   **freq_qid1** = Frequency of qid1's\n",
        "\n",
        "*   **freq_qid2**  = Frequency of qid2's\n",
        "\n",
        "* **q1len** = Length of q1\n",
        "\n",
        "* **q2len** = Length of q2\n",
        "\n",
        "* **q1_n_words** = Number of words in Question 1\n",
        "\n",
        "* **q2_n_words** = Number of words in Question 2\n",
        "\n",
        "* **word_Common** = (Number of common unique words in Question 1 and Question 2)\n",
        "\n",
        "* **word_Total** =(Total num of words in Question 1 + Total num of words in Question 2)\n",
        "\n",
        "* **word_share** = (word_common)/(word_Total)\n",
        "\n",
        "* **freq_q1+freq_q2** = sum total of frequency of qid1 and qid2\n",
        "\n",
        "* **freq_q1-freq_q2** = absolute difference of frequency of qid1 and qid2\n",
        "\n",
        "\n"
      ]
    },
    {
      "cell_type": "code",
      "metadata": {
        "id": "J01q0sjbUDbN",
        "colab_type": "code",
        "colab": {
          "base_uri": "https://localhost:8080/",
          "height": 649
        },
        "outputId": "dc021e11-eec9-4df1-9f4c-772784cb5a19"
      },
      "source": [
        "#to create a new column which counts the number of rows in each group\n",
        "data['freq_qid1']=data.groupby('qid1')['qid1'].transform('count')\n",
        "data['freq_qid2']=data.groupby('qid2')['qid2'].transform('count')\n",
        "data['q1len']=data['question1'].str.len() #lenght of the whole question\n",
        "data['q2len']=data['question2'].str.len()\n",
        "data['q1_n_words']=data['question1'].apply(lambda row:len(row.split(\" \"))) #no of words\n",
        "data['q2_n_words']=data['question2'].apply(lambda row:len(row.split(\" \")))\n",
        "\n",
        "def normalized_word_Common(row):\n",
        "  w1 = set(map(lambda word: word.lower().strip(), row['question1'].split(\" \")))\n",
        "  w2 = set(map(lambda word: word.lower().strip(), row['question2'].split(\" \")))    \n",
        "  return 1.0 * len(w1 & w2)\n",
        "data['word_Common'] = data.apply(normalized_word_Common, axis=1)\n",
        "\n",
        "def normalized_word_Total(row):\n",
        "  w1 = set(map(lambda word: word.lower().strip(), row['question1'].split(\" \")))\n",
        "  w2 = set(map(lambda word: word.lower().strip(), row['question2'].split(\" \")))    \n",
        "  return 1.0*(len(w1)+len(w2))\n",
        "data['word_Total'] = data.apply(normalized_word_Total, axis=1)\n",
        "\n",
        "def normalized_word_Share(row):\n",
        "  w1 = set(map(lambda word: word.lower().strip(), row['question1'].split(\" \")))\n",
        "  w2 = set(map(lambda word: word.lower().strip(), row['question2'].split(\" \")))    \n",
        "  return 1.0*len(w1 & w2)/(len(w1)+len(w2))\n",
        "data['word_Share'] = data.apply(normalized_word_Share, axis=1)\n",
        "\n",
        "data['freq_q1+q2']=data['freq_qid1']+data['freq_qid2']\n",
        "data['freq_q1-q2']=data['freq_qid1']-data['freq_qid2']\n",
        "\n",
        "data.head()\n"
      ],
      "execution_count": null,
      "outputs": [
        {
          "output_type": "execute_result",
          "data": {
            "text/html": [
              "<div>\n",
              "<style scoped>\n",
              "    .dataframe tbody tr th:only-of-type {\n",
              "        vertical-align: middle;\n",
              "    }\n",
              "\n",
              "    .dataframe tbody tr th {\n",
              "        vertical-align: top;\n",
              "    }\n",
              "\n",
              "    .dataframe thead th {\n",
              "        text-align: right;\n",
              "    }\n",
              "</style>\n",
              "<table border=\"1\" class=\"dataframe\">\n",
              "  <thead>\n",
              "    <tr style=\"text-align: right;\">\n",
              "      <th></th>\n",
              "      <th>id</th>\n",
              "      <th>qid1</th>\n",
              "      <th>qid2</th>\n",
              "      <th>question1</th>\n",
              "      <th>question2</th>\n",
              "      <th>is_duplicate</th>\n",
              "      <th>freq_qid1</th>\n",
              "      <th>freq_qid2</th>\n",
              "      <th>q1len</th>\n",
              "      <th>q2len</th>\n",
              "      <th>q1_n_words</th>\n",
              "      <th>q2_n_words</th>\n",
              "      <th>word_Common</th>\n",
              "      <th>word_Total</th>\n",
              "      <th>word_Share</th>\n",
              "      <th>freq_q1+q2</th>\n",
              "      <th>freq_q1-q2</th>\n",
              "    </tr>\n",
              "  </thead>\n",
              "  <tbody>\n",
              "    <tr>\n",
              "      <th>0</th>\n",
              "      <td>0</td>\n",
              "      <td>1</td>\n",
              "      <td>2</td>\n",
              "      <td>What is the step by step guide to invest in sh...</td>\n",
              "      <td>What is the step by step guide to invest in sh...</td>\n",
              "      <td>0</td>\n",
              "      <td>1</td>\n",
              "      <td>1</td>\n",
              "      <td>66</td>\n",
              "      <td>57</td>\n",
              "      <td>14</td>\n",
              "      <td>12</td>\n",
              "      <td>10.0</td>\n",
              "      <td>23.0</td>\n",
              "      <td>0.434783</td>\n",
              "      <td>2</td>\n",
              "      <td>0</td>\n",
              "    </tr>\n",
              "    <tr>\n",
              "      <th>1</th>\n",
              "      <td>1</td>\n",
              "      <td>3</td>\n",
              "      <td>4</td>\n",
              "      <td>What is the story of Kohinoor (Koh-i-Noor) Dia...</td>\n",
              "      <td>What would happen if the Indian government sto...</td>\n",
              "      <td>0</td>\n",
              "      <td>4</td>\n",
              "      <td>1</td>\n",
              "      <td>51</td>\n",
              "      <td>88</td>\n",
              "      <td>8</td>\n",
              "      <td>13</td>\n",
              "      <td>4.0</td>\n",
              "      <td>20.0</td>\n",
              "      <td>0.200000</td>\n",
              "      <td>5</td>\n",
              "      <td>3</td>\n",
              "    </tr>\n",
              "    <tr>\n",
              "      <th>2</th>\n",
              "      <td>2</td>\n",
              "      <td>5</td>\n",
              "      <td>6</td>\n",
              "      <td>How can I increase the speed of my internet co...</td>\n",
              "      <td>How can Internet speed be increased by hacking...</td>\n",
              "      <td>0</td>\n",
              "      <td>1</td>\n",
              "      <td>1</td>\n",
              "      <td>73</td>\n",
              "      <td>59</td>\n",
              "      <td>14</td>\n",
              "      <td>10</td>\n",
              "      <td>4.0</td>\n",
              "      <td>24.0</td>\n",
              "      <td>0.166667</td>\n",
              "      <td>2</td>\n",
              "      <td>0</td>\n",
              "    </tr>\n",
              "    <tr>\n",
              "      <th>3</th>\n",
              "      <td>3</td>\n",
              "      <td>7</td>\n",
              "      <td>8</td>\n",
              "      <td>Why am I mentally very lonely? How can I solve...</td>\n",
              "      <td>Find the remainder when [math]23^{24}[/math] i...</td>\n",
              "      <td>0</td>\n",
              "      <td>1</td>\n",
              "      <td>1</td>\n",
              "      <td>50</td>\n",
              "      <td>65</td>\n",
              "      <td>11</td>\n",
              "      <td>9</td>\n",
              "      <td>0.0</td>\n",
              "      <td>19.0</td>\n",
              "      <td>0.000000</td>\n",
              "      <td>2</td>\n",
              "      <td>0</td>\n",
              "    </tr>\n",
              "    <tr>\n",
              "      <th>4</th>\n",
              "      <td>4</td>\n",
              "      <td>9</td>\n",
              "      <td>10</td>\n",
              "      <td>Which one dissolve in water quikly sugar, salt...</td>\n",
              "      <td>Which fish would survive in salt water?</td>\n",
              "      <td>0</td>\n",
              "      <td>3</td>\n",
              "      <td>1</td>\n",
              "      <td>76</td>\n",
              "      <td>39</td>\n",
              "      <td>13</td>\n",
              "      <td>7</td>\n",
              "      <td>2.0</td>\n",
              "      <td>20.0</td>\n",
              "      <td>0.100000</td>\n",
              "      <td>4</td>\n",
              "      <td>2</td>\n",
              "    </tr>\n",
              "  </tbody>\n",
              "</table>\n",
              "</div>"
            ],
            "text/plain": [
              "   id  qid1  qid2  ... word_Share freq_q1+q2  freq_q1-q2\n",
              "0   0     1     2  ...   0.434783          2           0\n",
              "1   1     3     4  ...   0.200000          5           3\n",
              "2   2     5     6  ...   0.166667          2           0\n",
              "3   3     7     8  ...   0.000000          2           0\n",
              "4   4     9    10  ...   0.100000          4           2\n",
              "\n",
              "[5 rows x 17 columns]"
            ]
          },
          "metadata": {
            "tags": []
          },
          "execution_count": 16
        }
      ]
    },
    {
      "cell_type": "markdown",
      "metadata": {
        "id": "F7NoeGgMzoG5",
        "colab_type": "text"
      },
      "source": [
        "**3.3.1 Analysis of some of the extracted features**"
      ]
    },
    {
      "cell_type": "code",
      "metadata": {
        "id": "BEtn3l5Izrya",
        "colab_type": "code",
        "colab": {
          "base_uri": "https://localhost:8080/",
          "height": 85
        },
        "outputId": "3a24d15c-62ff-46c2-c329-e598264aa47e"
      },
      "source": [
        "print(\"Minimum no of word in question of qustion1 : \" , min(data['q1_n_words']))\n",
        "print(\"Minimum no of word in question of qustion2 : \" , min(data['q2_n_words']))\n",
        "\n",
        "print(\"Number of Questions with minimum length [question1] :\",data[data['q1_n_words']==1].shape[0])\n",
        "print(\"Number of Questions with minimum length [question2] :\",data[data['q2_n_words']==1].shape[0])"
      ],
      "execution_count": null,
      "outputs": [
        {
          "output_type": "stream",
          "text": [
            "Minimum no of word in question of qustion1 :  1\n",
            "Minimum no of word in question of qustion2 :  1\n",
            "Number of Questions with minimum length [question1] : 67\n",
            "Number of Questions with minimum length [question2] : 24\n"
          ],
          "name": "stdout"
        }
      ]
    },
    {
      "cell_type": "markdown",
      "metadata": {
        "id": "edkxFRxv1T-v",
        "colab_type": "text"
      },
      "source": [
        "**3.3.1.1 Feature: word_share**"
      ]
    },
    {
      "cell_type": "code",
      "metadata": {
        "id": "6A9EG0Dd1aKh",
        "colab_type": "code",
        "colab": {
          "base_uri": "https://localhost:8080/",
          "height": 498
        },
        "outputId": "93cef0fa-c4e0-4bd2-e241-e2612e6acc28"
      },
      "source": [
        "#subplot(nrows, ncols, index, **kwargs)\n",
        "plt.figure(figsize=(12,8))\n",
        "plt.subplot(1,2,1)\n",
        "sns.violinplot(x='is_duplicate',y='word_Share',data=data)\n",
        "\n",
        "plt.subplot(1,2,2)\n",
        "sns.distplot(data[data['is_duplicate']==1]['word_Share'],label=\"1\",color=\"red\")\n",
        "sns.distplot(data[data['is_duplicate']==0]['word_Share'],label=\"0\",color=\"blue\")\n",
        "plt.show()"
      ],
      "execution_count": null,
      "outputs": [
        {
          "output_type": "display_data",
          "data": {
            "image/png": "[encoded data removed]",
            "text/plain": [
              "<Figure size 864x576 with 2 Axes>"
            ]
          },
          "metadata": {
            "tags": []
          }
        }
      ]
    },
    {
      "cell_type": "markdown",
      "metadata": {
        "id": "HjKB5JKp6XNy",
        "colab_type": "text"
      },
      "source": [
        "* The distributions for normalized word_share have some overlap on the far right-hand side, i.e., there are quite a lot of questions with high word similarity\n",
        "\n",
        "* The average word share and Common no. of words of qid1 and qid2 is more when they are duplicate(Similar)\n",
        "\n",
        "**3.3.1.2 Feature: word_Common**"
      ]
    },
    {
      "cell_type": "code",
      "metadata": {
        "id": "q1gRkTTd6dsz",
        "colab_type": "code",
        "colab": {
          "base_uri": "https://localhost:8080/",
          "height": 498
        },
        "outputId": "73e0e1a9-993c-481f-c5d0-2f4465a6de5e"
      },
      "source": [
        "plt.figure(figsize=(12,8))\n",
        "plt.subplot(1,2,1)\n",
        "sns.violinplot(x='is_duplicate',y='word_Common',data=data)\n",
        "\n",
        "plt.subplot(1,2,2)\n",
        "sns.distplot(data[data['is_duplicate']==1]['word_Common'],label=\"1\",color=\"red\")\n",
        "sns.distplot(data[data['is_duplicate']==0]['word_Common'],label=\"0\",color=\"blue\")\n",
        "plt.show()"
      ],
      "execution_count": null,
      "outputs": [
        {
          "output_type": "display_data",
          "data": {
            "image/png": "[encoded data removed]",
            "text/plain": [
              "<Figure size 864x576 with 2 Axes>"
            ]
          },
          "metadata": {
            "tags": []
          }
        }
      ]
    },
    {
      "cell_type": "markdown",
      "metadata": {
        "id": "2K_eAjck7Tr2",
        "colab_type": "text"
      },
      "source": [
        "**Observation :** The distributions of the word_Common feature in similar and non-similar questions are highly overlapping"
      ]
    }
  ]
}