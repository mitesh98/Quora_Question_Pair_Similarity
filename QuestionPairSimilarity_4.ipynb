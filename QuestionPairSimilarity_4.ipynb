{
  "nbformat": 4,
  "nbformat_minor": 0,
  "metadata": {
    "colab": {
      "name": "QuestionPairSimilarity-4.ipynb",
      "provenance": [],
      "authorship_tag": "ABX9TyNZpiqxPm+sC0ji64JIx4e4",
      "include_colab_link": true
    },
    "kernelspec": {
      "name": "python3",
      "display_name": "Python 3"
    }
  },
  "cells": [
    {
      "cell_type": "markdown",
      "metadata": {
        "id": "view-in-github",
        "colab_type": "text"
      },
      "source": [
        "<a href=\"https://colab.research.google.com/github/mitesh98/Quora_Question_Pair_Similarity/blob/master/QuestionPairSimilarity_4.ipynb\" target=\"_parent\"><img src=\"https://colab.research.google.com/assets/colab-badge.svg\" alt=\"Open In Colab\"/></a>"
      ]
    },
    {
      "cell_type": "code",
      "metadata": {
        "id": "TE3p-W3mjzll",
        "colab_type": "code",
        "colab": {}
      },
      "source": [
        "import pandas as pd\n",
        "import matplotlib.pyplot as plt\n",
        "import re\n",
        "import time\n",
        "import warnings\n",
        "import sqlite3\n",
        "from sqlalchemy import create_engine # database connection\n",
        "import csv\n",
        "import os\n",
        "warnings.filterwarnings(\"ignore\")\n",
        "from datetime import datetime as dt\n",
        "import numpy as np\n",
        "from nltk.corpus import stopwords\n",
        "from sklearn.decomposition import TruncatedSVD\n",
        "from sklearn.preprocessing import normalize\n",
        "from sklearn.feature_extraction.text import CountVectorizer\n",
        "from sklearn.manifold import TSNE\n",
        "import seaborn as sns\n",
        "from sklearn.neighbors import KNeighborsClassifier\n",
        "from sklearn.metrics import confusion_matrix\n",
        "from sklearn.metrics.classification import accuracy_score, log_loss\n",
        "from sklearn.feature_extraction.text import TfidfVectorizer\n",
        "from collections import Counter\n",
        "from scipy.sparse import hstack\n",
        "from sklearn.multiclass import OneVsRestClassifier\n",
        "from sklearn.svm import SVC\n",
        "from collections import Counter, defaultdict\n",
        "from sklearn.calibration import CalibratedClassifierCV\n",
        "from sklearn.naive_bayes import MultinomialNB\n",
        "from sklearn.naive_bayes import GaussianNB\n",
        "from sklearn.model_selection import train_test_split\n",
        "from sklearn.model_selection import GridSearchCV\n",
        "import math\n",
        "from sklearn.metrics import normalized_mutual_info_score\n",
        "from sklearn.ensemble import RandomForestClassifier\n",
        "\n",
        "from sklearn.model_selection import cross_val_score\n",
        "from sklearn.linear_model import SGDClassifier\n",
        "from mlxtend.classifier import StackingClassifier\n",
        "\n",
        "from sklearn import model_selection\n",
        "from sklearn.linear_model import LogisticRegression\n",
        "from sklearn.metrics import precision_recall_curve, auc, roc_curve\n",
        "import spacy\n",
        "from tqdm import tqdm\n",
        "from datetime import datetime as dt"
      ],
      "execution_count": null,
      "outputs": []
    },
    {
      "cell_type": "code",
      "metadata": {
        "id": "4cvTJIt6kDF8",
        "colab_type": "code",
        "colab": {
          "base_uri": "https://localhost:8080/",
          "height": 122
        },
        "outputId": "5d4f82bc-8fc9-4f01-d920-a2289fe36fef"
      },
      "source": [
        "from google.colab import drive\n",
        "drive.mount('/content/drive')"
      ],
      "execution_count": null,
      "outputs": [
        {
          "output_type": "stream",
          "text": [
            "Go to this URL in a browser: https://accounts.google.com/o/oauth2/auth?client_id=947318989803-6bn6qk8qdgf4n4g3pfee6491hc0brc4i.apps.googleusercontent.com&redirect_uri=urn%3aietf%3awg%3aoauth%3a2.0%3aoob&response_type=code&scope=email%20https%3a%2f%2fwww.googleapis.com%2fauth%2fdocs.test%20https%3a%2f%2fwww.googleapis.com%2fauth%2fdrive%20https%3a%2f%2fwww.googleapis.com%2fauth%2fdrive.photos.readonly%20https%3a%2f%2fwww.googleapis.com%2fauth%2fpeopleapi.readonly\n",
            "\n",
            "Enter your authorization code:\n",
            "··········\n",
            "Mounted at /content/drive\n"
          ],
          "name": "stdout"
        }
      ]
    },
    {
      "cell_type": "code",
      "metadata": {
        "id": "DYOse5PVkN17",
        "colab_type": "code",
        "colab": {}
      },
      "source": [
        "!cp \"/content/drive/My Drive/Colab Notebooks/Quora_Final.csv\" \"Quora_Final.csv\""
      ],
      "execution_count": null,
      "outputs": []
    },
    {
      "cell_type": "markdown",
      "metadata": {
        "id": "hUyDeGu0n2FU",
        "colab_type": "text"
      },
      "source": [
        "# Machine Learning Algorithm"
      ]
    },
    {
      "cell_type": "code",
      "metadata": {
        "id": "pybpaZS9mdA2",
        "colab_type": "code",
        "colab": {}
      },
      "source": [
        "df_full = pd.read_csv('Quora_Final.csv')"
      ],
      "execution_count": null,
      "outputs": []
    },
    {
      "cell_type": "code",
      "metadata": {
        "id": "ov4oUJFZoAO8",
        "colab_type": "code",
        "colab": {
          "base_uri": "https://localhost:8080/",
          "height": 255
        },
        "outputId": "e1743730-1a67-4353-cd2d-ad2a15184c29"
      },
      "source": [
        "print(\"Shape of df_full dataframe:\", df_full.shape, '\\n')\n",
        "print('*'*50, '\\n')\n",
        "\n",
        "print(\"Columns of df_full dataframe:\\n\")\n",
        "print(df_full.columns)"
      ],
      "execution_count": null,
      "outputs": [
        {
          "output_type": "stream",
          "text": [
            "Shape of df_full dataframe: (100000, 30) \n",
            "\n",
            "************************************************** \n",
            "\n",
            "Columns of df_full dataframe:\n",
            "\n",
            "Index(['id', 'question1', 'question2', 'is_duplicate', 'freq_qid1',\n",
            "       'freq_qid2', 'q1len', 'q2len', 'q1_n_words', 'q2_n_words',\n",
            "       'word_Common', 'word_Total', 'word_share', 'freq_q1+q2', 'freq_q1-q2',\n",
            "       'cwc_min', 'cwc_max', 'csc_min', 'csc_max', 'ctc_min', 'ctc_max',\n",
            "       'last_word_eq', 'first_word_eq', 'abs_len_diff', 'mean_len',\n",
            "       'token_set_ratio', 'token_sort_ratio', 'fuzz_ratio',\n",
            "       'fuzz_partial_ratio', 'longest_substr_ratio'],\n",
            "      dtype='object')\n"
          ],
          "name": "stdout"
        }
      ]
    },
    {
      "cell_type": "markdown",
      "metadata": {
        "id": "wCdgQHDJoKSe",
        "colab_type": "text"
      },
      "source": [
        "# Train Test Split"
      ]
    },
    {
      "cell_type": "code",
      "metadata": {
        "id": "CWpfse6RoJ_W",
        "colab_type": "code",
        "colab": {}
      },
      "source": [
        "x = df_full.drop(['is_duplicate', 'id'], axis = 1)\n",
        "y = df_full['is_duplicate']"
      ],
      "execution_count": null,
      "outputs": []
    },
    {
      "cell_type": "code",
      "metadata": {
        "id": "aahKlqJDoPw4",
        "colab_type": "code",
        "colab": {}
      },
      "source": [
        "from sklearn.model_selection import train_test_split\n",
        "\n",
        "x_train, x_test, y_train, y_test = train_test_split(x, y, test_size = 0.3, random_state = 0, shuffle = False)"
      ],
      "execution_count": null,
      "outputs": []
    },
    {
      "cell_type": "code",
      "metadata": {
        "id": "tcBctatcoTUb",
        "colab_type": "code",
        "colab": {
          "base_uri": "https://localhost:8080/",
          "height": 85
        },
        "outputId": "5a01e74f-fba1-4dea-b87e-e427b3e3951d"
      },
      "source": [
        "print(\"Shape of x train data:\", x_train.shape)\n",
        "print(\"Shape of x test data:\", x_test.shape)\n",
        "print(\"Shape of y train data:\", y_train.shape)\n",
        "print(\"Shape of y test data:\", y_test.shape)"
      ],
      "execution_count": null,
      "outputs": [
        {
          "output_type": "stream",
          "text": [
            "Shape of x train data: (70000, 28)\n",
            "Shape of x test data: (30000, 28)\n",
            "Shape of y train data: (70000,)\n",
            "Shape of y test data: (30000,)\n"
          ],
          "name": "stdout"
        }
      ]
    },
    {
      "cell_type": "markdown",
      "metadata": {
        "id": "kB53-ByJoXgw",
        "colab_type": "text"
      },
      "source": [
        "# TFIDF Vectorizer on question1 and question2"
      ]
    },
    {
      "cell_type": "markdown",
      "metadata": {
        "id": "6kCheVGhodp3",
        "colab_type": "text"
      },
      "source": [
        "# TFIDF Vectorizer on question1 and question2"
      ]
    },
    {
      "cell_type": "markdown",
      "metadata": {
        "id": "UnzWA5-HojvX",
        "colab_type": "text"
      },
      "source": [
        "<b>TFIDF vectorization on question2<b>"
      ]
    },
    {
      "cell_type": "code",
      "metadata": {
        "id": "2nRGj8yhocUR",
        "colab_type": "code",
        "colab": {}
      },
      "source": [
        "# TFIDF vectorization on question1\n",
        "\n",
        "tf_1 = TfidfVectorizer()\n",
        "\n",
        "# Fit_transform train data of question2\n",
        "tf_tr_q1 = tf_1.fit_transform(x_train['question1'].values.astype('U'))\n",
        "\n",
        "# Transform test data of question1\n",
        "tf_te_q1 = tf_1.transform(x_test['question1'].values.astype('U'))"
      ],
      "execution_count": null,
      "outputs": []
    },
    {
      "cell_type": "markdown",
      "metadata": {
        "id": "GUTJQ88Jopb0",
        "colab_type": "text"
      },
      "source": [
        "<b>TFIDF vectorization on question2<b>"
      ]
    },
    {
      "cell_type": "code",
      "metadata": {
        "id": "OgZ-H3acoqa-",
        "colab_type": "code",
        "colab": {}
      },
      "source": [
        "# TFIDF vectorization on question2\n",
        "\n",
        "tf_2 = TfidfVectorizer()\n",
        "\n",
        "# Fit_transform train data of question2\n",
        "tf_tr_q2 = tf_2.fit_transform(x_train['question2'].values.astype('U'))\n",
        "\n",
        "# Transform test data of question2\n",
        "tf_te_q2 = tf_2.transform(x_test['question2'].values.astype('U'))"
      ],
      "execution_count": null,
      "outputs": []
    },
    {
      "cell_type": "markdown",
      "metadata": {
        "id": "eC4V22h6pElb",
        "colab_type": "text"
      },
      "source": [
        "<b>Horizontal stacking question pairs<b>"
      ]
    },
    {
      "cell_type": "code",
      "metadata": {
        "id": "gqaJ7shRpFoQ",
        "colab_type": "code",
        "colab": {}
      },
      "source": [
        "# hstack on train data\n",
        "tf_tr = hstack((tf_tr_q1, tf_tr_q2))\n",
        "\n",
        "#hstack on test data\n",
        "tf_te = hstack((tf_te_q1, tf_te_q2))"
      ],
      "execution_count": null,
      "outputs": []
    },
    {
      "cell_type": "markdown",
      "metadata": {
        "id": "yGmqG_JspLTY",
        "colab_type": "text"
      },
      "source": [
        "<b>Drop question1 and question2<b>"
      ]
    },
    {
      "cell_type": "code",
      "metadata": {
        "id": "4eqiNadZpMYL",
        "colab_type": "code",
        "colab": {}
      },
      "source": [
        "# Drop question1 and question2 from train data\n",
        "tf_tr_f = x_train.drop(['question1','question2'], axis=1)\n",
        "\n",
        "# Drop question1 and question2 from test data\n",
        "tf_te_f = x_test.drop(['question1','question2'], axis=1)"
      ],
      "execution_count": null,
      "outputs": []
    },
    {
      "cell_type": "markdown",
      "metadata": {
        "id": "WpgbUwMapUWv",
        "colab_type": "text"
      },
      "source": [
        "<b>Horizontal stacking to get final train and final test data<b>"
      ]
    },
    {
      "cell_type": "code",
      "metadata": {
        "id": "vwIgx652pVGn",
        "colab_type": "code",
        "colab": {}
      },
      "source": [
        "# hstack on train data\n",
        "tf_tr_f = hstack((tf_tr_f, tf_tr)).tocsr()\n",
        "\n",
        "#hstack on test data\n",
        "tf_te_f = hstack((tf_te_f, tf_te)).tocsr()"
      ],
      "execution_count": null,
      "outputs": []
    },
    {
      "cell_type": "code",
      "metadata": {
        "id": "Rnp8rENXpX6Y",
        "colab_type": "code",
        "colab": {
          "base_uri": "https://localhost:8080/",
          "height": 102
        },
        "outputId": "80b0acf7-a437-445c-d67b-65a81f60f331"
      },
      "source": [
        "print(\"Type of tf_tr_f:\", type(tf_tr_f),)\n",
        "print(\"Type of tf_te_f:\", type(tf_te_f), '\\n')\n",
        "\n",
        "print(\"Shape of tf_tr_f:\", tf_tr_f.shape)\n",
        "print(\"Shape of tf_te_f:\", tf_te_f.shape)"
      ],
      "execution_count": null,
      "outputs": [
        {
          "output_type": "stream",
          "text": [
            "Type of tf_tr_f: <class 'scipy.sparse.csr.csr_matrix'>\n",
            "Type of tf_te_f: <class 'scipy.sparse.csr.csr_matrix'> \n",
            "\n",
            "Shape of tf_tr_f: (70000, 60010)\n",
            "Shape of tf_te_f: (30000, 60010)\n"
          ],
          "name": "stdout"
        }
      ]
    },
    {
      "cell_type": "markdown",
      "metadata": {
        "id": "mVJDQr0MpeYu",
        "colab_type": "text"
      },
      "source": [
        "<b>Checking distribution of class 0 and 1<b>"
      ]
    },
    {
      "cell_type": "code",
      "metadata": {
        "id": "BHWG8RsApfgF",
        "colab_type": "code",
        "colab": {
          "base_uri": "https://localhost:8080/",
          "height": 85
        },
        "outputId": "b28b1413-519c-404c-ac55-75fd10a88337"
      },
      "source": [
        "# Importing Counter library\n",
        "from collections import Counter, defaultdict\n",
        "\n",
        "print(\"-\"*10, \"Distribution of output variable in train data\", \"-\"*10)\n",
        "train_distr = Counter(y_train)\n",
        "train_len = len(y_train)\n",
        "print(\"Class 0: \",int(train_distr[0])/train_len,\"Class 1: \", int(train_distr[1])/train_len)\n",
        "print(\"-\"*10, \"Distribution of output variable in train data\", \"-\"*10)\n",
        "test_distr = Counter(y_test)\n",
        "test_len = len(y_test)\n",
        "print(\"Class 0: \",int(test_distr[1])/test_len, \"Class 1: \",int(test_distr[1])/test_len)"
      ],
      "execution_count": null,
      "outputs": [
        {
          "output_type": "stream",
          "text": [
            "---------- Distribution of output variable in train data ----------\n",
            "Class 0:  0.6273285714285715 Class 1:  0.3726714285714286\n",
            "---------- Distribution of output variable in train data ----------\n",
            "Class 0:  0.37283333333333335 Class 1:  0.37283333333333335\n"
          ],
          "name": "stdout"
        }
      ]
    },
    {
      "cell_type": "markdown",
      "metadata": {
        "id": "AB7jYH7yplH_",
        "colab_type": "text"
      },
      "source": [
        "# Defining 'plot_confusion_matrix' function to view confusion matrix in heatmap form"
      ]
    },
    {
      "cell_type": "code",
      "metadata": {
        "id": "3eiStFOLpmSS",
        "colab_type": "code",
        "colab": {}
      },
      "source": [
        "# This function plots the confusion matrices given y_i, y_i_hat.\n",
        "\n",
        "def plot_confusion_matrix(y_test, predict):\n",
        "    \n",
        "    C = confusion_matrix(y_test, predict)\n",
        "    # C = 9,9 matrix, each cell (i,j) represents number of points of class i are predicted class j\n",
        "    \n",
        "    A =(((C.T)/(C.sum(axis=1))).T)\n",
        "   \n",
        "    \n",
        "    B =(C/C.sum(axis=0))\n",
        "    plt.figure(figsize=(20,4))\n",
        "    \n",
        "    labels = [1,2]\n",
        "    # representing A in heatmap format\n",
        "    plt.style.use(\"seaborn-darkgrid\")\n",
        "    plt.subplot(1, 3, 1)\n",
        "    sns.heatmap(C, annot = True, fmt = \".3f\", xticklabels = labels, yticklabels = labels)\n",
        "    plt.xlabel('Predicted Class')\n",
        "    plt.ylabel('Original Class')\n",
        "    plt.title(\"Confusion matrix\")\n",
        "    \n",
        "    plt.subplot(1, 3, 2)\n",
        "    sns.heatmap(B, annot = True,fmt = \".3f\", xticklabels = labels, yticklabels = labels)\n",
        "    plt.xlabel('Predicted Class')\n",
        "    plt.ylabel('Original Class')\n",
        "    plt.title(\"Precision matrix\")\n",
        "    \n",
        "    plt.subplot(1, 3, 3)\n",
        "    # representing B in heatmap format\n",
        "    sns.heatmap(A, annot = True, fmt = \".3f\", xticklabels = labels, yticklabels = labels)\n",
        "    plt.xlabel('Predicted Class')\n",
        "    plt.ylabel('Original Class')\n",
        "    plt.title(\"Recall matrix\")"
      ],
      "execution_count": null,
      "outputs": []
    },
    {
      "cell_type": "markdown",
      "metadata": {
        "id": "jiLgt6YbprIa",
        "colab_type": "text"
      },
      "source": [
        "# Defining 'ml' function for LogisticRegression and Linear SVM"
      ]
    },
    {
      "cell_type": "code",
      "metadata": {
        "id": "sVk7Z7AbpsOo",
        "colab_type": "code",
        "colab": {}
      },
      "source": [
        "# Defining 'ml' function for LogisticRegression and Linear SVM\n",
        "\n",
        "# Importing library\n",
        "from sklearn.linear_model import SGDClassifier\n",
        "from sklearn.metrics.classification import accuracy_score, log_loss\n",
        "from sklearn.calibration import CalibratedClassifierCV\n",
        "from sklearn.metrics import confusion_matrix, precision_recall_curve, auc, roc_curve\n",
        "\n",
        "\n",
        "def ml(x_tr, x_te, y_tr, y_te, los):\n",
        "    \n",
        "    alpha = [10 ** x for x in range(-5, 2)] # hyperparam for SGD classifier.\n",
        "\n",
        "    error_array = []\n",
        "\n",
        "    for i in alpha:\n",
        "    \n",
        "        clf = SGDClassifier(alpha = i, penalty='l2', loss = los, n_jobs = -1)\n",
        "        clf.fit(x_tr, y_tr)\n",
        "        sig_clf = CalibratedClassifierCV(clf, method = \"sigmoid\")\n",
        "        sig_clf.fit(x_tr, y_tr)\n",
        "        predict = sig_clf.predict_proba(x_te)\n",
        "        error_array.append(log_loss(y_te, predict, labels = clf.classes_, eps = 1e-15))\n",
        "        print('For values of alpha = ', i, \"The loss is:\", log_loss(y_te, predict, labels = clf.classes_, eps = 1e-15))\n",
        "\n",
        "    fig, ax = plt.subplots()\n",
        "    ax.plot(alpha, error_array, c = 'g')\n",
        "    for i, txt in enumerate(np.round(error_array, 3)):\n",
        "        ax.annotate((alpha[i],np.round(txt,3)), (alpha[i], error_array[i]))\n",
        "    plt.grid()\n",
        "    plt.title(\"Cross Validation Error for each alpha\")\n",
        "    plt.xlabel(\"Alpha i's\")\n",
        "    plt.ylabel(\"Error measure\")\n",
        "\n",
        "    best_alpha = np.argmin(error_array)\n",
        "    clf = SGDClassifier(alpha = alpha[best_alpha], penalty = 'l2', loss = los)\n",
        "    clf.fit(x_tr, y_tr)\n",
        "    sig_clf = CalibratedClassifierCV(clf, method = \"sigmoid\")\n",
        "    sig_clf.fit(x_tr, y_tr)\n",
        "\n",
        "    predict = sig_clf.predict_proba(x_tr)\n",
        "    print('For values of best alpha = ', alpha[best_alpha], \"The train log loss is:\", log_loss(y_tr, predict, labels = clf.classes_, eps = 1e-15))\n",
        "    predict = sig_clf.predict_proba(x_te)\n",
        "    print('For values of best alpha = ', alpha[best_alpha], \"The test log loss is:\", log_loss(y_te, predict, labels = clf.classes_, eps = 1e-15))\n",
        "    predicted =np.argmax(predict, axis=1)\n",
        "    print(\"Total number of data points :\", len(predicted))\n",
        "    plot_confusion_matrix(y_te, predicted)"
      ],
      "execution_count": null,
      "outputs": []
    },
    {
      "cell_type": "markdown",
      "metadata": {
        "id": "6s7STMalp3cJ",
        "colab_type": "text"
      },
      "source": [
        "# Calling 'ml' function for logistic regression"
      ]
    },
    {
      "cell_type": "code",
      "metadata": {
        "id": "GYjZTW7UpyXv",
        "colab_type": "code",
        "colab": {
          "base_uri": "https://localhost:8080/",
          "height": 738
        },
        "outputId": "6bf36e78-496d-483a-9e4b-d6d65130c11a"
      },
      "source": [
        "# Calling 'ml' function for logistic regression\n",
        "\n",
        "ml(tf_tr_f, tf_te_f, y_train, y_test, 'log')"
      ],
      "execution_count": null,
      "outputs": [
        {
          "output_type": "stream",
          "text": [
            "For values of alpha =  1e-05 The loss is: 0.41358904376306066\n",
            "For values of alpha =  0.0001 The loss is: 0.4126350459006137\n",
            "For values of alpha =  0.001 The loss is: 0.4307379220961485\n",
            "For values of alpha =  0.01 The loss is: 0.4535298288706359\n",
            "For values of alpha =  0.1 The loss is: 0.4669605478899021\n",
            "For values of alpha =  1 The loss is: 0.5022421741600571\n",
            "For values of alpha =  10 The loss is: 0.5514077596424671\n",
            "For values of best alpha =  0.0001 The train log loss is: 0.41618557435096143\n",
            "For values of best alpha =  0.0001 The test log loss is: 0.427358260189266\n",
            "Total number of data points : 30000\n"
          ],
          "name": "stdout"
        },
        {
          "output_type": "display_data",
          "data": {
            "image/png": "[encoded data removed]",
            "text/plain": [
              "<Figure size 432x288 with 1 Axes>"
            ]
          },
          "metadata": {
            "tags": [],
            "needs_background": "light"
          }
        },
        {
          "output_type": "display_data",
          "data": {
            "image/png": "[encoded data removed]",
            "text/plain": [
              "<Figure size 1440x288 with 6 Axes>"
            ]
          },
          "metadata": {
            "tags": [],
            "needs_background": "light"
          }
        }
      ]
    },
    {
      "cell_type": "code",
      "metadata": {
        "id": "jux1QKgfrDYV",
        "colab_type": "code",
        "colab": {}
      },
      "source": [
        "lg_tr_a = 1e-05\n",
        "lg_te_a = 1e-05\n",
        "lg_tr_log = 0.45\n",
        "lg_te_log = 0.46"
      ],
      "execution_count": null,
      "outputs": []
    },
    {
      "cell_type": "markdown",
      "metadata": {
        "id": "hfVgOzGCqILr",
        "colab_type": "text"
      },
      "source": [
        "# Observation:\n",
        "\n",
        "For train, best alpha we acquired is 1e-05 with log loss of 0.45.\n",
        "\n",
        "For test, best alpha we acquired is 1e-05 with log loss of 0.44."
      ]
    },
    {
      "cell_type": "markdown",
      "metadata": {
        "id": "R1OK9WB8qKKe",
        "colab_type": "text"
      },
      "source": [
        "# Calling 'ml' function for linear SVM"
      ]
    },
    {
      "cell_type": "code",
      "metadata": {
        "id": "rjpmDQ3VDg3R",
        "colab_type": "code",
        "colab": {
          "base_uri": "https://localhost:8080/",
          "height": 735
        },
        "outputId": "65b712c9-b5c9-4101-adc7-a43eb14ca7ca"
      },
      "source": [
        "# Calling 'ml' function for linear regression\n",
        "\n",
        "ml(tf_tr_f, tf_te_f, y_train, y_test, 'hinge')"
      ],
      "execution_count": null,
      "outputs": [
        {
          "output_type": "stream",
          "text": [
            "For values of alpha =  1e-05 The loss is: 0.42143965648992465\n",
            "For values of alpha =  0.0001 The loss is: 0.4201920186516796\n",
            "For values of alpha =  0.001 The loss is: 0.4356925495289009\n",
            "For values of alpha =  0.01 The loss is: 0.45087555830757825\n",
            "For values of alpha =  0.1 The loss is: 0.4689878771949584\n",
            "For values of alpha =  1 The loss is: 0.48906760703233654\n",
            "For values of alpha =  10 The loss is: 0.545395256123119\n",
            "For values of best alpha =  0.0001 The train log loss is: 0.40720543063126097\n",
            "For values of best alpha =  0.0001 The test log loss is: 0.41484601969535084\n",
            "Total number of data points : 30000\n"
          ],
          "name": "stdout"
        },
        {
          "output_type": "display_data",
          "data": {
            "image/png": "[encoded data removed]",
            "text/plain": [
              "<Figure size 432x288 with 1 Axes>"
            ]
          },
          "metadata": {
            "tags": []
          }
        },
        {
          "output_type": "display_data",
          "data": {
            "image/png": "[encoded data removed]",
            "text/plain": [
              "<Figure size 1440x288 with 6 Axes>"
            ]
          },
          "metadata": {
            "tags": []
          }
        }
      ]
    },
    {
      "cell_type": "code",
      "metadata": {
        "id": "LTln7sueDl1P",
        "colab_type": "code",
        "colab": {}
      },
      "source": [
        "ln_tr_a = 1e-05\n",
        "ln_te_a = 1e-05\n",
        "ln_tr_log = 0.42\n",
        "ln_te_log = 0.42"
      ],
      "execution_count": null,
      "outputs": []
    },
    {
      "cell_type": "markdown",
      "metadata": {
        "id": "14LnbNrQDchP",
        "colab_type": "text"
      },
      "source": [
        "# Observation:\n",
        "\n",
        "For train, best alpha we acquired is 1e-05 with log loss of 0.42.\n",
        "\n",
        "For test, best alpha we acquired is 1e-05 with log loss of 0.42."
      ]
    },
    {
      "cell_type": "markdown",
      "metadata": {
        "id": "i7tneyDgDp8g",
        "colab_type": "text"
      },
      "source": [
        "#XGBOOST Algorithm\n"
      ]
    },
    {
      "cell_type": "code",
      "metadata": {
        "id": "AK-TQxLtFc7v",
        "colab_type": "code",
        "colab": {}
      },
      "source": [
        "dftw_100k = pd.read_csv('Quora_Final.csv')"
      ],
      "execution_count": null,
      "outputs": []
    },
    {
      "cell_type": "code",
      "metadata": {
        "id": "QY35Wn1MHF8_",
        "colab_type": "code",
        "colab": {
          "base_uri": "https://localhost:8080/",
          "height": 187
        },
        "outputId": "30cc5588-9474-4b2a-bdc2-ba43b3283b30"
      },
      "source": [
        "print(\"Columns in dftw_100k dataframe:\\n\")\n",
        "\n",
        "print(dftw_100k.columns)"
      ],
      "execution_count": null,
      "outputs": [
        {
          "output_type": "stream",
          "text": [
            "Columns in dftw_100k dataframe:\n",
            "\n",
            "Index(['id', 'question1', 'question2', 'is_duplicate', 'freq_qid1',\n",
            "       'freq_qid2', 'q1len', 'q2len', 'q1_n_words', 'q2_n_words',\n",
            "       'word_Common', 'word_Total', 'word_share', 'freq_q1+q2', 'freq_q1-q2',\n",
            "       'cwc_min', 'cwc_max', 'csc_min', 'csc_max', 'ctc_min', 'ctc_max',\n",
            "       'last_word_eq', 'first_word_eq', 'abs_len_diff', 'mean_len',\n",
            "       'token_set_ratio', 'token_sort_ratio', 'fuzz_ratio',\n",
            "       'fuzz_partial_ratio', 'longest_substr_ratio'],\n",
            "      dtype='object')\n"
          ],
          "name": "stdout"
        }
      ]
    },
    {
      "cell_type": "code",
      "metadata": {
        "id": "MeRoNbNlHLOT",
        "colab_type": "code",
        "colab": {}
      },
      "source": [
        "dftw_100k['question1'] = dftw_100k['question1'].apply(lambda x: str(x))\n",
        "dftw_100k['question2'] = dftw_100k['question2'].apply(lambda x: str(x))"
      ],
      "execution_count": null,
      "outputs": []
    },
    {
      "cell_type": "code",
      "metadata": {
        "id": "d1X6VzeZHOBr",
        "colab_type": "code",
        "colab": {}
      },
      "source": [
        "x_tw = dftw_100k.drop(['is_duplicate', 'id'], axis = 1)\n",
        "y_tw = dftw_100k['is_duplicate']"
      ],
      "execution_count": null,
      "outputs": []
    },
    {
      "cell_type": "markdown",
      "metadata": {
        "id": "fRXW0b57HRgv",
        "colab_type": "text"
      },
      "source": [
        "# Train Test Split"
      ]
    },
    {
      "cell_type": "code",
      "metadata": {
        "id": "Fc7mheXAHSrT",
        "colab_type": "code",
        "colab": {}
      },
      "source": [
        "from sklearn.model_selection import train_test_split\n",
        "\n",
        "x_train_tw, x_test_tw, y_train_tw, y_test_tw = train_test_split(x_tw, y_tw, test_size = 0.3, random_state = 0, shuffle = False)"
      ],
      "execution_count": null,
      "outputs": []
    },
    {
      "cell_type": "code",
      "metadata": {
        "id": "VFfUVR-GHXZg",
        "colab_type": "code",
        "colab": {
          "base_uri": "https://localhost:8080/",
          "height": 85
        },
        "outputId": "8d3e94e6-1cca-4780-d3f4-4457e0b22372"
      },
      "source": [
        "print(\"Shape of x train data:\", x_train_tw.shape)\n",
        "print(\"Shape of x test data:\", x_test_tw.shape)\n",
        "print(\"Shape of y train data:\", y_train_tw.shape)\n",
        "print(\"Shape of y test data:\", y_test_tw.shape)"
      ],
      "execution_count": null,
      "outputs": [
        {
          "output_type": "stream",
          "text": [
            "Shape of x train data: (70000, 28)\n",
            "Shape of x test data: (30000, 28)\n",
            "Shape of y train data: (70000,)\n",
            "Shape of y test data: (30000,)\n"
          ],
          "name": "stdout"
        }
      ]
    },
    {
      "cell_type": "markdown",
      "metadata": {
        "id": "-MZSSteZHdkv",
        "colab_type": "text"
      },
      "source": [
        "# With train data, creating list of questions TFIDF values"
      ]
    },
    {
      "cell_type": "code",
      "metadata": {
        "id": "pzTa72WzHfZw",
        "colab_type": "code",
        "colab": {}
      },
      "source": [
        "# With train data, creating list of questions, dictionary of feature names and idf values\n",
        "\n",
        "# Importing library\n",
        "from sklearn.feature_extraction.text import TfidfVectorizer\n",
        "\n",
        "# Merge texts\n",
        "questions = list(x_train_tw['question1']) + list(x_train_tw['question2'])\n",
        "\n",
        "tfidf = TfidfVectorizer(lowercase=False)\n",
        "tfidf.fit_transform(questions)\n",
        "\n",
        "# dict key:word and value:tf-idf score\n",
        "word2tfidf = dict(zip(tfidf.get_feature_names(), tfidf.idf_))"
      ],
      "execution_count": null,
      "outputs": []
    },
    {
      "cell_type": "markdown",
      "metadata": {
        "id": "3lQsgtPnHktL",
        "colab_type": "text"
      },
      "source": [
        "- After we find TF-IDF scores, we convert each question to a weighted average of word2vec vectors by these scores.\n",
        "- here we use a pre-trained GLOVE model which comes free with \"Spacy\".  https://spacy.io/usage/vectors-similarity\n",
        "- It is trained on Wikipedia and therefore, it is stronger in terms of word semantics. "
      ]
    },
    {
      "cell_type": "markdown",
      "metadata": {
        "id": "UQWeX14QHpHr",
        "colab_type": "text"
      },
      "source": [
        "#Defining a function 'vec' to create TF-IDF Weighted Word2Vec"
      ]
    },
    {
      "cell_type": "code",
      "metadata": {
        "id": "umeVn6WcHmGJ",
        "colab_type": "code",
        "colab": {}
      },
      "source": [
        "# Defining a function 'vec' to create TF-IDF Weighted Word2Vec\n",
        "\n",
        "# Importing libraries\n",
        "import os\n",
        "import spacy\n",
        "from tqdm import tqdm\n",
        "\n",
        "def vec(xtw):\n",
        "\n",
        "    # en_vectors_web_lg, which includes over 1 million unique vectors.\n",
        "    nlp = spacy.load('en_core_web_sm')\n",
        "\n",
        "    vecs = []\n",
        "    \n",
        "    # https://github.com/noamraph/tqdm\n",
        "    # tqdm is used to print the progress bar\n",
        "    for qu in tqdm(list(xtw)):\n",
        "        \n",
        "        doc = nlp(qu) \n",
        "        # 96 is the number of dimensions of vectors \n",
        "        mean_vec = np.zeros([len(doc), 96])\n",
        "        \n",
        "        for word in doc:\n",
        "            # word2vec\n",
        "            vec = word.vector\n",
        "            # fetch df score\n",
        "            \n",
        "            try:\n",
        "                idf = word2tfidf[str(word)]\n",
        "                \n",
        "            except:\n",
        "                idf = 0\n",
        "                \n",
        "            # compute final vec\n",
        "            mean_vec += vec * idf\n",
        "            \n",
        "        mean_vec = mean_vec.mean(axis = 0)\n",
        "        vecs.append(mean_vec)\n",
        "    #dftw_100k['q1_feats_m'] = list(vecs1)\n",
        "    \n",
        "    return vecs"
      ],
      "execution_count": null,
      "outputs": []
    },
    {
      "cell_type": "markdown",
      "metadata": {
        "id": "ging8J-KHykL",
        "colab_type": "text"
      },
      "source": [
        "# Calling 'vec' function"
      ]
    },
    {
      "cell_type": "markdown",
      "metadata": {
        "id": "rN-sOOwVH2P7",
        "colab_type": "text"
      },
      "source": [
        "- <b>Data: train<b>\n",
        "- <b>Column: question1<b>"
      ]
    },
    {
      "cell_type": "code",
      "metadata": {
        "id": "zS2D0xVaHzqY",
        "colab_type": "code",
        "colab": {
          "base_uri": "https://localhost:8080/",
          "height": 34
        },
        "outputId": "677ca7cd-3607-4c43-a48f-00e3524c56be"
      },
      "source": [
        "# Calling 'vec' function for train question1\n",
        "\n",
        "x_train_tw['que1_tw'] = vec(x_train_tw['question1'])"
      ],
      "execution_count": null,
      "outputs": [
        {
          "output_type": "stream",
          "text": [
            "100%|██████████| 70000/70000 [09:22<00:00, 124.40it/s]\n"
          ],
          "name": "stderr"
        }
      ]
    },
    {
      "cell_type": "markdown",
      "metadata": {
        "id": "ZO10rAweH-l7",
        "colab_type": "text"
      },
      "source": [
        "- <b>Data: train<b>\n",
        "- <b>Column: question2<b>"
      ]
    },
    {
      "cell_type": "code",
      "metadata": {
        "id": "PkEr29v7IAS4",
        "colab_type": "code",
        "colab": {
          "base_uri": "https://localhost:8080/",
          "height": 34
        },
        "outputId": "bcfb6aa2-a8ef-45b2-a633-5e1bff4e14f8"
      },
      "source": [
        "# Calling 'vec' function for train question2\n",
        "\n",
        "x_train_tw['que2_tw'] = vec(x_train_tw['question2'])"
      ],
      "execution_count": null,
      "outputs": [
        {
          "output_type": "stream",
          "text": [
            "100%|██████████| 70000/70000 [09:57<00:00, 117.19it/s]\n"
          ],
          "name": "stderr"
        }
      ]
    },
    {
      "cell_type": "markdown",
      "metadata": {
        "id": "NEiAQz1pIHK4",
        "colab_type": "text"
      },
      "source": [
        "- <b>Data: test<b>\n",
        "- <b>Column: question1<b>"
      ]
    },
    {
      "cell_type": "code",
      "metadata": {
        "id": "ydimS6JNIF7d",
        "colab_type": "code",
        "colab": {
          "base_uri": "https://localhost:8080/",
          "height": 34
        },
        "outputId": "3ab06371-d5b3-4448-dbce-c985bfd47877"
      },
      "source": [
        "# Calling 'vec' function for test question1\n",
        "\n",
        "x_test_tw['que1_tw'] = vec(x_test_tw['question1'])"
      ],
      "execution_count": null,
      "outputs": [
        {
          "output_type": "stream",
          "text": [
            "100%|██████████| 30000/30000 [04:24<00:00, 113.62it/s]\n"
          ],
          "name": "stderr"
        }
      ]
    },
    {
      "cell_type": "markdown",
      "metadata": {
        "id": "3rkEVc-WISAz",
        "colab_type": "text"
      },
      "source": [
        "- <b>Data: test\n",
        "- <b>Column: question2<b>"
      ]
    },
    {
      "cell_type": "code",
      "metadata": {
        "id": "i_Tfe9ETITUg",
        "colab_type": "code",
        "colab": {
          "base_uri": "https://localhost:8080/",
          "height": 34
        },
        "outputId": "26569c54-8f2f-4e05-a1be-59de92e63727"
      },
      "source": [
        "# Calling 'vec' function for test question2\n",
        "\n",
        "x_test_tw['que2_tw'] = vec(x_test_tw['question2'])"
      ],
      "execution_count": null,
      "outputs": [
        {
          "output_type": "stream",
          "text": [
            "100%|██████████| 30000/30000 [04:24<00:00, 113.56it/s]\n"
          ],
          "name": "stderr"
        }
      ]
    },
    {
      "cell_type": "code",
      "metadata": {
        "id": "Mfw_qYVrIZ6d",
        "colab_type": "code",
        "colab": {
          "base_uri": "https://localhost:8080/",
          "height": 221
        },
        "outputId": "a963ff77-c476-4e46-fb7f-8140f7b0a3c9"
      },
      "source": [
        "print(\"Type of x_train_tw['que1_tw']:\", type(x_train_tw['que1_tw']))\n",
        "print(\"Type of x_train_tw['que2_tw']:\", type(x_train_tw['que2_tw']), '\\n')\n",
        "print(\"Type of x_test_tw['que1_tw']:\", type(x_test_tw['que1_tw']))\n",
        "print(\"Type of x_test_tw['que2_tw']:\", type(x_test_tw['que2_tw']), '\\n')\n",
        "\n",
        "print(\"Shape of x train question1:\", x_train_tw['que1_tw'].shape)\n",
        "print(\"Shape of x test question1 data:\", x_test_tw['que1_tw'].shape, '\\n')\n",
        "\n",
        "\n",
        "print(\"Shape of x train question2:\", x_train_tw['que2_tw'].shape)\n",
        "print(\"Shape of x test question2 data:\", x_test_tw['que1_tw'].shape, '\\n')"
      ],
      "execution_count": null,
      "outputs": [
        {
          "output_type": "stream",
          "text": [
            "Type of x_train_tw['que1_tw']: <class 'pandas.core.series.Series'>\n",
            "Type of x_train_tw['que2_tw']: <class 'pandas.core.series.Series'> \n",
            "\n",
            "Type of x_test_tw['que1_tw']: <class 'pandas.core.series.Series'>\n",
            "Type of x_test_tw['que2_tw']: <class 'pandas.core.series.Series'> \n",
            "\n",
            "Shape of x train question1: (70000,)\n",
            "Shape of x test question1 data: (30000,) \n",
            "\n",
            "Shape of x train question2: (70000,)\n",
            "Shape of x test question2 data: (30000,) \n",
            "\n"
          ],
          "name": "stdout"
        }
      ]
    },
    {
      "cell_type": "markdown",
      "metadata": {
        "id": "ueC0fUngIY52",
        "colab_type": "text"
      },
      "source": [
        "# Creating dataframe so as to get vectors"
      ]
    },
    {
      "cell_type": "code",
      "metadata": {
        "id": "i8bqanlWIewE",
        "colab_type": "code",
        "colab": {}
      },
      "source": [
        "# Train dataframe\n",
        "\n",
        "x_tr_tw1 = pd.DataFrame(x_train_tw['que1_tw'].values.tolist(), index = x_train_tw.index)\n",
        "\n",
        "x_tr_tw2 = pd.DataFrame(x_train_tw['que2_tw'].values.tolist(), index = x_train_tw.index,\n",
        "                         columns = np.arange(x_tr_tw1.shape[1], x_tr_tw1.shape[1] * 2))\n",
        "\n",
        "\n",
        "# Test dataframe\n",
        "\n",
        "x_te_tw1 = pd.DataFrame(x_test_tw['que1_tw'].values.tolist(), index = x_test_tw.index)\n",
        "\n",
        "x_te_tw2 = pd.DataFrame(x_test_tw['que2_tw'].values.tolist(), index = x_test_tw.index,\n",
        "                         columns = np.arange(x_te_tw1.shape[1], x_te_tw1.shape[1] * 2))"
      ],
      "execution_count": null,
      "outputs": []
    },
    {
      "cell_type": "markdown",
      "metadata": {
        "id": "U6VpRJJ1Ik1n",
        "colab_type": "text"
      },
      "source": [
        "# Concatinating question1 and question2 vectors with dataframe"
      ]
    },
    {
      "cell_type": "code",
      "metadata": {
        "id": "GFvKCxRbIl-R",
        "colab_type": "code",
        "colab": {}
      },
      "source": [
        "# Concatinating train question1 and train question2 vectors with dataframe\n",
        "\n",
        "final_tr_tw = pd.concat([x_train_tw, x_tr_tw1, x_tr_tw2], axis = 1)\n",
        "\n",
        "# Dropping question1 and question2 columns from final_test dataframe\n",
        "\n",
        "final_te_tw = pd.concat([x_test_tw, x_te_tw1, x_te_tw2], axis = 1)"
      ],
      "execution_count": null,
      "outputs": []
    },
    {
      "cell_type": "markdown",
      "metadata": {
        "id": "RtcMSntFIr4R",
        "colab_type": "text"
      },
      "source": [
        "<b>Filling null values with 0 if there are any."
      ]
    },
    {
      "cell_type": "code",
      "metadata": {
        "id": "_hOb1-psIvuH",
        "colab_type": "code",
        "colab": {}
      },
      "source": [
        "# Filling train dataframe\n",
        "final_tr_tw = final_tr_tw.fillna(0)\n",
        "\n",
        "# Filling test dataframe\n",
        "final_te_tw = final_te_tw.fillna(0)"
      ],
      "execution_count": null,
      "outputs": []
    },
    {
      "cell_type": "markdown",
      "metadata": {
        "id": "v8GlK2lPIypk",
        "colab_type": "text"
      },
      "source": [
        "<b>Dropping columns question1, question2, que1_tw, que2_tw<b>"
      ]
    },
    {
      "cell_type": "code",
      "metadata": {
        "id": "LQ_sqoy0Iz39",
        "colab_type": "code",
        "colab": {}
      },
      "source": [
        "# Dropping question1 and question2 columns from final_train dataframe\n",
        "\n",
        "final_tr_tw = final_tr_tw.drop(['question1', 'question2', 'que1_tw', 'que2_tw'], axis = 1)\n",
        "\n",
        "# Dropping question1 and question2 columns from final_test dataframe\n",
        "\n",
        "final_te_tw = final_te_tw.drop(['question1', 'question2', 'que1_tw', 'que2_tw'], axis = 1)"
      ],
      "execution_count": null,
      "outputs": []
    },
    {
      "cell_type": "code",
      "metadata": {
        "id": "GnQKUXSgI4_f",
        "colab_type": "code",
        "colab": {
          "base_uri": "https://localhost:8080/",
          "height": 85
        },
        "outputId": "7c39eaf8-5009-4ebb-b694-94a9b3d18f21"
      },
      "source": [
        "print(\"Shape of final_tr_tw dataframe:\", final_tr_tw.shape, '\\n')\n",
        "\n",
        "print(\"Shape of final_te_tw dataframe:\", final_te_tw.shape, '\\n')"
      ],
      "execution_count": null,
      "outputs": [
        {
          "output_type": "stream",
          "text": [
            "Shape of final_tr_tw dataframe: (70000, 218) \n",
            "\n",
            "Shape of final_te_tw dataframe: (30000, 218) \n",
            "\n"
          ],
          "name": "stdout"
        }
      ]
    },
    {
      "cell_type": "code",
      "metadata": {
        "id": "9P8EsfqvI8Yj",
        "colab_type": "code",
        "colab": {}
      },
      "source": [
        "# Saving final train data\n",
        "final_tr_tw.to_csv(\"quora_final_tr_tw.csv\")\n",
        "\n",
        "# Saving final test data\n",
        "final_te_tw.to_csv(\"quora_final_te_tw.csv\")"
      ],
      "execution_count": null,
      "outputs": []
    },
    {
      "cell_type": "markdown",
      "metadata": {
        "id": "GCwgLYYzJNMR",
        "colab_type": "text"
      },
      "source": [
        "# XGBOOST"
      ]
    },
    {
      "cell_type": "code",
      "metadata": {
        "id": "uo4HYG__JO-r",
        "colab_type": "code",
        "colab": {
          "base_uri": "https://localhost:8080/",
          "height": 34
        },
        "outputId": "8ce2b236-3934-431c-a137-c5fc6f2e8845"
      },
      "source": [
        "# Import libraries\n",
        "from sklearn.model_selection import RandomizedSearchCV\n",
        "from xgboost import XGBClassifier\n",
        "from sklearn.metrics import log_loss\n",
        "\n",
        "start = dt.now()\n",
        "\n",
        "# Parameters we need to try are\n",
        "param_grid = {'n_estimators' : [5, 10, 100, 500], 'max_depth' : [2, 5, 8, 10]}\n",
        "\n",
        "rs_k = RandomizedSearchCV(estimator = XGBClassifier(objective = 'binary:logistic', eval_metric = 'logloss', eta = 0.02),\n",
        "                          param_distributions = param_grid)\n",
        "\n",
        "# fit train sets\n",
        "rs_k.fit(final_tr_tw, y_train_tw)\n",
        "\n",
        "# Prediction\n",
        "predict_tw = rs_k.predict(final_te_tw)\n",
        "\n",
        "print(\"Time taken to run this cell:\", dt.now() - start)"
      ],
      "execution_count": null,
      "outputs": [
        {
          "output_type": "stream",
          "text": [
            "Time taken to run this cell: 4:08:09.227663\n"
          ],
          "name": "stdout"
        }
      ]
    },
    {
      "cell_type": "code",
      "metadata": {
        "id": "A-DHQzthJVi0",
        "colab_type": "code",
        "colab": {
          "base_uri": "https://localhost:8080/",
          "height": 68
        },
        "outputId": "25ce5a47-355e-4618-e40a-438c57a5c432"
      },
      "source": [
        "bp = rs_k.best_params_\n",
        "bs = rs_k.best_score_\n",
        "\n",
        "print(\"Optimal hyperParameter:\", bp, '\\n')\n",
        "print(\"Maximum accuracy:\", bs * 100)"
      ],
      "execution_count": null,
      "outputs": [
        {
          "output_type": "stream",
          "text": [
            "Optimal hyperParameter: {'n_estimators': 500, 'max_depth': 10} \n",
            "\n",
            "Maximum accuracy: 83.49857142857144\n"
          ],
          "name": "stdout"
        }
      ]
    },
    {
      "cell_type": "markdown",
      "metadata": {
        "id": "yhiy2Du1JZMC",
        "colab_type": "text"
      },
      "source": [
        "<b>Confusion Matrix<b>"
      ]
    },
    {
      "cell_type": "code",
      "metadata": {
        "id": "DycNdUBAJZ_h",
        "colab_type": "code",
        "colab": {
          "base_uri": "https://localhost:8080/",
          "height": 308
        },
        "outputId": "79dfacb4-cf9d-4f5f-fc47-e9dbd27a8df5"
      },
      "source": [
        "predicted_y = np.array(predict_tw > 0.5, dtype = int)\n",
        "print(\"Total number of data points :\", len(predicted_y))\n",
        "plot_confusion_matrix(y_test_tw, predicted_y)"
      ],
      "execution_count": null,
      "outputs": [
        {
          "output_type": "stream",
          "text": [
            "Total number of data points : 30000\n"
          ],
          "name": "stdout"
        },
        {
          "output_type": "display_data",
          "data": {
            "image/png": "[encoded data removed]",
            "text/plain": [
              "<Figure size 1440x288 with 6 Axes>"
            ]
          },
          "metadata": {
            "tags": []
          }
        }
      ]
    },
    {
      "cell_type": "markdown",
      "metadata": {
        "id": "_cFSYhYNJfSi",
        "colab_type": "text"
      },
      "source": [
        "<b>Hyperparameters<b>\n",
        "    \n",
        " - max_depth: 10\n",
        " \n",
        " - n_estimators: 100"
      ]
    },
    {
      "cell_type": "code",
      "metadata": {
        "id": "HaVT2elbJg1X",
        "colab_type": "code",
        "colab": {
          "base_uri": "https://localhost:8080/",
          "height": 1000
        },
        "outputId": "2fb67661-2876-40ca-e2c8-be57444fc322"
      },
      "source": [
        "import xgboost as xgb\n",
        "params = {}\n",
        "params['objective'] = 'binary:logistic'\n",
        "params['eval_metric'] = 'logloss'\n",
        "params['eta'] = 0.02\n",
        "params['max_depth'] = 10\n",
        "params['n_estimators'] = 100\n",
        "\n",
        "d_train = xgb.DMatrix(final_tr_tw, label= y_train_tw)\n",
        "d_test = xgb.DMatrix(final_te_tw, label = y_test_tw)\n",
        "\n",
        "watchlist = [(d_train, 'train'), (d_test, 'valid')]\n",
        "\n",
        "bst = xgb.train(params, d_train, 400, watchlist, early_stopping_rounds=20)\n",
        "\n",
        "xgdmat = xgb.DMatrix(final_tr_tw,y_train_tw)\n",
        "predict_y = bst.predict(d_test)\n",
        "print(\"The test log loss is:\",log_loss(y_test_tw, predict_y, eps=1e-15))"
      ],
      "execution_count": null,
      "outputs": [
        {
          "output_type": "stream",
          "text": [
            "[0]\ttrain-logloss:0.682095\tvalid-logloss:0.683263\n",
            "Multiple eval metrics have been passed: 'valid-logloss' will be used for early stopping.\n",
            "\n",
            "Will train until valid-logloss hasn't improved in 20 rounds.\n",
            "[1]\ttrain-logloss:0.671555\tvalid-logloss:0.673725\n",
            "[2]\ttrain-logloss:0.661347\tvalid-logloss:0.664701\n",
            "[3]\ttrain-logloss:0.651562\tvalid-logloss:0.65594\n",
            "[4]\ttrain-logloss:0.641828\tvalid-logloss:0.64746\n",
            "[5]\ttrain-logloss:0.632615\tvalid-logloss:0.639271\n",
            "[6]\ttrain-logloss:0.623669\tvalid-logloss:0.631372\n",
            "[7]\ttrain-logloss:0.615032\tvalid-logloss:0.623821\n",
            "[8]\ttrain-logloss:0.606743\tvalid-logloss:0.616573\n",
            "[9]\ttrain-logloss:0.59871\tvalid-logloss:0.609463\n",
            "[10]\ttrain-logloss:0.590765\tvalid-logloss:0.602604\n",
            "[11]\ttrain-logloss:0.583242\tvalid-logloss:0.595989\n",
            "[12]\ttrain-logloss:0.575897\tvalid-logloss:0.589637\n",
            "[13]\ttrain-logloss:0.568723\tvalid-logloss:0.583479\n",
            "[14]\ttrain-logloss:0.561808\tvalid-logloss:0.577482\n",
            "[15]\ttrain-logloss:0.555095\tvalid-logloss:0.571704\n",
            "[16]\ttrain-logloss:0.548623\tvalid-logloss:0.566082\n",
            "[17]\ttrain-logloss:0.542297\tvalid-logloss:0.560691\n",
            "[18]\ttrain-logloss:0.536033\tvalid-logloss:0.555404\n",
            "[19]\ttrain-logloss:0.530064\tvalid-logloss:0.55035\n",
            "[20]\ttrain-logloss:0.524276\tvalid-logloss:0.545387\n",
            "[21]\ttrain-logloss:0.518662\tvalid-logloss:0.540646\n",
            "[22]\ttrain-logloss:0.513109\tvalid-logloss:0.536035\n",
            "[23]\ttrain-logloss:0.507722\tvalid-logloss:0.53155\n",
            "[24]\ttrain-logloss:0.502561\tvalid-logloss:0.527151\n",
            "[25]\ttrain-logloss:0.497445\tvalid-logloss:0.522889\n",
            "[26]\ttrain-logloss:0.492405\tvalid-logloss:0.518737\n",
            "[27]\ttrain-logloss:0.48752\tvalid-logloss:0.514735\n",
            "[28]\ttrain-logloss:0.482783\tvalid-logloss:0.510828\n",
            "[29]\ttrain-logloss:0.478125\tvalid-logloss:0.507004\n",
            "[30]\ttrain-logloss:0.473588\tvalid-logloss:0.503312\n",
            "[31]\ttrain-logloss:0.469252\tvalid-logloss:0.499732\n",
            "[32]\ttrain-logloss:0.464874\tvalid-logloss:0.496213\n",
            "[33]\ttrain-logloss:0.460696\tvalid-logloss:0.492802\n",
            "[34]\ttrain-logloss:0.456564\tvalid-logloss:0.489496\n",
            "[35]\ttrain-logloss:0.452563\tvalid-logloss:0.486216\n",
            "[36]\ttrain-logloss:0.448664\tvalid-logloss:0.483099\n",
            "[37]\ttrain-logloss:0.44492\tvalid-logloss:0.480038\n",
            "[38]\ttrain-logloss:0.441173\tvalid-logloss:0.476999\n",
            "[39]\ttrain-logloss:0.437545\tvalid-logloss:0.474055\n",
            "[40]\ttrain-logloss:0.43403\tvalid-logloss:0.471257\n",
            "[41]\ttrain-logloss:0.430556\tvalid-logloss:0.468516\n",
            "[42]\ttrain-logloss:0.427219\tvalid-logloss:0.465811\n",
            "[43]\ttrain-logloss:0.423875\tvalid-logloss:0.463257\n",
            "[44]\ttrain-logloss:0.420631\tvalid-logloss:0.460702\n",
            "[45]\ttrain-logloss:0.417409\tvalid-logloss:0.458183\n",
            "[46]\ttrain-logloss:0.41432\tvalid-logloss:0.455766\n",
            "[47]\ttrain-logloss:0.411208\tvalid-logloss:0.453437\n",
            "[48]\ttrain-logloss:0.408202\tvalid-logloss:0.451203\n",
            "[49]\ttrain-logloss:0.405216\tvalid-logloss:0.449007\n",
            "[50]\ttrain-logloss:0.402299\tvalid-logloss:0.446843\n",
            "[51]\ttrain-logloss:0.39945\tvalid-logloss:0.444755\n",
            "[52]\ttrain-logloss:0.396581\tvalid-logloss:0.442708\n",
            "[53]\ttrain-logloss:0.393867\tvalid-logloss:0.440686\n",
            "[54]\ttrain-logloss:0.391214\tvalid-logloss:0.438698\n",
            "[55]\ttrain-logloss:0.388613\tvalid-logloss:0.43678\n",
            "[56]\ttrain-logloss:0.38604\tvalid-logloss:0.434945\n",
            "[57]\ttrain-logloss:0.383528\tvalid-logloss:0.433179\n",
            "[58]\ttrain-logloss:0.381086\tvalid-logloss:0.431387\n",
            "[59]\ttrain-logloss:0.378772\tvalid-logloss:0.429659\n",
            "[60]\ttrain-logloss:0.376435\tvalid-logloss:0.427985\n",
            "[61]\ttrain-logloss:0.37424\tvalid-logloss:0.426383\n",
            "[62]\ttrain-logloss:0.372127\tvalid-logloss:0.42482\n",
            "[63]\ttrain-logloss:0.36991\tvalid-logloss:0.423245\n",
            "[64]\ttrain-logloss:0.367655\tvalid-logloss:0.421719\n",
            "[65]\ttrain-logloss:0.365722\tvalid-logloss:0.420277\n",
            "[66]\ttrain-logloss:0.363665\tvalid-logloss:0.418808\n",
            "[67]\ttrain-logloss:0.361719\tvalid-logloss:0.417433\n",
            "[68]\ttrain-logloss:0.359805\tvalid-logloss:0.416048\n",
            "[69]\ttrain-logloss:0.357958\tvalid-logloss:0.414663\n",
            "[70]\ttrain-logloss:0.356073\tvalid-logloss:0.413318\n",
            "[71]\ttrain-logloss:0.354161\tvalid-logloss:0.411965\n",
            "[72]\ttrain-logloss:0.352366\tvalid-logloss:0.410703\n",
            "[73]\ttrain-logloss:0.350636\tvalid-logloss:0.409438\n",
            "[74]\ttrain-logloss:0.348974\tvalid-logloss:0.408216\n",
            "[75]\ttrain-logloss:0.347345\tvalid-logloss:0.407008\n",
            "[76]\ttrain-logloss:0.345661\tvalid-logloss:0.405923\n",
            "[77]\ttrain-logloss:0.344076\tvalid-logloss:0.40478\n",
            "[78]\ttrain-logloss:0.342369\tvalid-logloss:0.403692\n",
            "[79]\ttrain-logloss:0.340846\tvalid-logloss:0.402579\n",
            "[80]\ttrain-logloss:0.339336\tvalid-logloss:0.401506\n",
            "[81]\ttrain-logloss:0.337796\tvalid-logloss:0.40055\n",
            "[82]\ttrain-logloss:0.336269\tvalid-logloss:0.399529\n",
            "[83]\ttrain-logloss:0.33476\tvalid-logloss:0.398561\n",
            "[84]\ttrain-logloss:0.333323\tvalid-logloss:0.397625\n",
            "[85]\ttrain-logloss:0.331831\tvalid-logloss:0.396682\n",
            "[86]\ttrain-logloss:0.330458\tvalid-logloss:0.395779\n",
            "[87]\ttrain-logloss:0.329078\tvalid-logloss:0.39491\n",
            "[88]\ttrain-logloss:0.327735\tvalid-logloss:0.39405\n",
            "[89]\ttrain-logloss:0.326422\tvalid-logloss:0.393247\n",
            "[90]\ttrain-logloss:0.32519\tvalid-logloss:0.392413\n",
            "[91]\ttrain-logloss:0.323881\tvalid-logloss:0.391613\n",
            "[92]\ttrain-logloss:0.322682\tvalid-logloss:0.390853\n",
            "[93]\ttrain-logloss:0.321433\tvalid-logloss:0.390083\n",
            "[94]\ttrain-logloss:0.320118\tvalid-logloss:0.389319\n",
            "[95]\ttrain-logloss:0.31891\tvalid-logloss:0.388573\n",
            "[96]\ttrain-logloss:0.317688\tvalid-logloss:0.387905\n",
            "[97]\ttrain-logloss:0.316542\tvalid-logloss:0.387161\n",
            "[98]\ttrain-logloss:0.315474\tvalid-logloss:0.386489\n",
            "[99]\ttrain-logloss:0.314367\tvalid-logloss:0.385789\n",
            "[100]\ttrain-logloss:0.313302\tvalid-logloss:0.38512\n",
            "[101]\ttrain-logloss:0.312286\tvalid-logloss:0.384428\n",
            "[102]\ttrain-logloss:0.311281\tvalid-logloss:0.383818\n",
            "[103]\ttrain-logloss:0.310269\tvalid-logloss:0.38318\n",
            "[104]\ttrain-logloss:0.309287\tvalid-logloss:0.382559\n",
            "[105]\ttrain-logloss:0.308329\tvalid-logloss:0.381963\n",
            "[106]\ttrain-logloss:0.307351\tvalid-logloss:0.381373\n",
            "[107]\ttrain-logloss:0.306395\tvalid-logloss:0.380806\n",
            "[108]\ttrain-logloss:0.305432\tvalid-logloss:0.380273\n",
            "[109]\ttrain-logloss:0.304399\tvalid-logloss:0.379726\n",
            "[110]\ttrain-logloss:0.303538\tvalid-logloss:0.379181\n",
            "[111]\ttrain-logloss:0.30267\tvalid-logloss:0.378681\n",
            "[112]\ttrain-logloss:0.301836\tvalid-logloss:0.378211\n",
            "[113]\ttrain-logloss:0.301017\tvalid-logloss:0.377781\n",
            "[114]\ttrain-logloss:0.300215\tvalid-logloss:0.377278\n",
            "[115]\ttrain-logloss:0.299385\tvalid-logloss:0.376847\n",
            "[116]\ttrain-logloss:0.298573\tvalid-logloss:0.376382\n",
            "[117]\ttrain-logloss:0.297742\tvalid-logloss:0.375907\n",
            "[118]\ttrain-logloss:0.296899\tvalid-logloss:0.375447\n",
            "[119]\ttrain-logloss:0.296044\tvalid-logloss:0.374986\n",
            "[120]\ttrain-logloss:0.295295\tvalid-logloss:0.374521\n",
            "[121]\ttrain-logloss:0.294546\tvalid-logloss:0.374099\n",
            "[122]\ttrain-logloss:0.293728\tvalid-logloss:0.373679\n",
            "[123]\ttrain-logloss:0.29294\tvalid-logloss:0.373252\n",
            "[124]\ttrain-logloss:0.292235\tvalid-logloss:0.372825\n",
            "[125]\ttrain-logloss:0.291494\tvalid-logloss:0.372408\n",
            "[126]\ttrain-logloss:0.29076\tvalid-logloss:0.372035\n",
            "[127]\ttrain-logloss:0.290045\tvalid-logloss:0.371668\n",
            "[128]\ttrain-logloss:0.2894\tvalid-logloss:0.371304\n",
            "[129]\ttrain-logloss:0.288741\tvalid-logloss:0.370922\n",
            "[130]\ttrain-logloss:0.288085\tvalid-logloss:0.37056\n",
            "[131]\ttrain-logloss:0.287508\tvalid-logloss:0.370221\n",
            "[132]\ttrain-logloss:0.286876\tvalid-logloss:0.369909\n",
            "[133]\ttrain-logloss:0.286239\tvalid-logloss:0.369547\n",
            "[134]\ttrain-logloss:0.285638\tvalid-logloss:0.369257\n",
            "[135]\ttrain-logloss:0.284999\tvalid-logloss:0.368919\n",
            "[136]\ttrain-logloss:0.284417\tvalid-logloss:0.368612\n",
            "[137]\ttrain-logloss:0.283827\tvalid-logloss:0.36829\n",
            "[138]\ttrain-logloss:0.283254\tvalid-logloss:0.368007\n",
            "[139]\ttrain-logloss:0.282612\tvalid-logloss:0.367692\n",
            "[140]\ttrain-logloss:0.282078\tvalid-logloss:0.367418\n",
            "[141]\ttrain-logloss:0.281508\tvalid-logloss:0.367129\n",
            "[142]\ttrain-logloss:0.280831\tvalid-logloss:0.366816\n",
            "[143]\ttrain-logloss:0.280288\tvalid-logloss:0.366558\n",
            "[144]\ttrain-logloss:0.279719\tvalid-logloss:0.366282\n",
            "[145]\ttrain-logloss:0.27913\tvalid-logloss:0.365988\n",
            "[146]\ttrain-logloss:0.278622\tvalid-logloss:0.365759\n",
            "[147]\ttrain-logloss:0.277954\tvalid-logloss:0.365465\n",
            "[148]\ttrain-logloss:0.277416\tvalid-logloss:0.365242\n",
            "[149]\ttrain-logloss:0.276889\tvalid-logloss:0.364974\n",
            "[150]\ttrain-logloss:0.276395\tvalid-logloss:0.364696\n",
            "[151]\ttrain-logloss:0.27587\tvalid-logloss:0.364419\n",
            "[152]\ttrain-logloss:0.275392\tvalid-logloss:0.36421\n",
            "[153]\ttrain-logloss:0.274791\tvalid-logloss:0.363939\n",
            "[154]\ttrain-logloss:0.274205\tvalid-logloss:0.363676\n",
            "[155]\ttrain-logloss:0.273628\tvalid-logloss:0.363398\n",
            "[156]\ttrain-logloss:0.273178\tvalid-logloss:0.363247\n",
            "[157]\ttrain-logloss:0.272663\tvalid-logloss:0.362987\n",
            "[158]\ttrain-logloss:0.27215\tvalid-logloss:0.362751\n",
            "[159]\ttrain-logloss:0.271741\tvalid-logloss:0.36254\n",
            "[160]\ttrain-logloss:0.271361\tvalid-logloss:0.362334\n",
            "[161]\ttrain-logloss:0.271\tvalid-logloss:0.36213\n",
            "[162]\ttrain-logloss:0.270619\tvalid-logloss:0.361924\n",
            "[163]\ttrain-logloss:0.270203\tvalid-logloss:0.361714\n",
            "[164]\ttrain-logloss:0.269775\tvalid-logloss:0.361523\n",
            "[165]\ttrain-logloss:0.26936\tvalid-logloss:0.361291\n",
            "[166]\ttrain-logloss:0.26897\tvalid-logloss:0.361073\n",
            "[167]\ttrain-logloss:0.268552\tvalid-logloss:0.360897\n",
            "[168]\ttrain-logloss:0.268215\tvalid-logloss:0.360771\n",
            "[169]\ttrain-logloss:0.267843\tvalid-logloss:0.360572\n",
            "[170]\ttrain-logloss:0.267471\tvalid-logloss:0.360408\n",
            "[171]\ttrain-logloss:0.267119\tvalid-logloss:0.36028\n",
            "[172]\ttrain-logloss:0.266724\tvalid-logloss:0.360118\n",
            "[173]\ttrain-logloss:0.266396\tvalid-logloss:0.35996\n",
            "[174]\ttrain-logloss:0.266073\tvalid-logloss:0.359844\n",
            "[175]\ttrain-logloss:0.265711\tvalid-logloss:0.359653\n",
            "[176]\ttrain-logloss:0.26534\tvalid-logloss:0.359481\n",
            "[177]\ttrain-logloss:0.264944\tvalid-logloss:0.359351\n",
            "[178]\ttrain-logloss:0.264568\tvalid-logloss:0.359222\n",
            "[179]\ttrain-logloss:0.264237\tvalid-logloss:0.359075\n",
            "[180]\ttrain-logloss:0.26372\tvalid-logloss:0.358897\n",
            "[181]\ttrain-logloss:0.263253\tvalid-logloss:0.358745\n",
            "[182]\ttrain-logloss:0.262765\tvalid-logloss:0.358575\n",
            "[183]\ttrain-logloss:0.262394\tvalid-logloss:0.358462\n",
            "[184]\ttrain-logloss:0.262034\tvalid-logloss:0.358352\n",
            "[185]\ttrain-logloss:0.261657\tvalid-logloss:0.358243\n",
            "[186]\ttrain-logloss:0.261259\tvalid-logloss:0.358105\n",
            "[187]\ttrain-logloss:0.260939\tvalid-logloss:0.357942\n",
            "[188]\ttrain-logloss:0.260605\tvalid-logloss:0.357792\n",
            "[189]\ttrain-logloss:0.260171\tvalid-logloss:0.357686\n",
            "[190]\ttrain-logloss:0.259881\tvalid-logloss:0.357579\n",
            "[191]\ttrain-logloss:0.25943\tvalid-logloss:0.357456\n",
            "[192]\ttrain-logloss:0.25902\tvalid-logloss:0.357317\n",
            "[193]\ttrain-logloss:0.258673\tvalid-logloss:0.357206\n",
            "[194]\ttrain-logloss:0.258348\tvalid-logloss:0.35708\n",
            "[195]\ttrain-logloss:0.25794\tvalid-logloss:0.356986\n",
            "[196]\ttrain-logloss:0.257622\tvalid-logloss:0.356844\n",
            "[197]\ttrain-logloss:0.257283\tvalid-logloss:0.356759\n",
            "[198]\ttrain-logloss:0.25688\tvalid-logloss:0.356671\n",
            "[199]\ttrain-logloss:0.256564\tvalid-logloss:0.35655\n",
            "[200]\ttrain-logloss:0.256304\tvalid-logloss:0.356425\n",
            "[201]\ttrain-logloss:0.256006\tvalid-logloss:0.356292\n",
            "[202]\ttrain-logloss:0.255682\tvalid-logloss:0.356203\n",
            "[203]\ttrain-logloss:0.25532\tvalid-logloss:0.356139\n",
            "[204]\ttrain-logloss:0.255093\tvalid-logloss:0.356016\n",
            "[205]\ttrain-logloss:0.254584\tvalid-logloss:0.355892\n",
            "[206]\ttrain-logloss:0.254217\tvalid-logloss:0.355796\n",
            "[207]\ttrain-logloss:0.25397\tvalid-logloss:0.355702\n",
            "[208]\ttrain-logloss:0.253608\tvalid-logloss:0.355625\n",
            "[209]\ttrain-logloss:0.253286\tvalid-logloss:0.355553\n",
            "[210]\ttrain-logloss:0.252852\tvalid-logloss:0.355423\n",
            "[211]\ttrain-logloss:0.252659\tvalid-logloss:0.355346\n",
            "[212]\ttrain-logloss:0.252303\tvalid-logloss:0.355266\n",
            "[213]\ttrain-logloss:0.252009\tvalid-logloss:0.35519\n",
            "[214]\ttrain-logloss:0.251676\tvalid-logloss:0.355118\n",
            "[215]\ttrain-logloss:0.251432\tvalid-logloss:0.355007\n",
            "[216]\ttrain-logloss:0.251011\tvalid-logloss:0.354939\n",
            "[217]\ttrain-logloss:0.25071\tvalid-logloss:0.354843\n",
            "[218]\ttrain-logloss:0.250329\tvalid-logloss:0.354789\n",
            "[219]\ttrain-logloss:0.250057\tvalid-logloss:0.354716\n",
            "[220]\ttrain-logloss:0.249666\tvalid-logloss:0.354646\n",
            "[221]\ttrain-logloss:0.249232\tvalid-logloss:0.354495\n",
            "[222]\ttrain-logloss:0.248986\tvalid-logloss:0.354394\n",
            "[223]\ttrain-logloss:0.248591\tvalid-logloss:0.354293\n",
            "[224]\ttrain-logloss:0.248241\tvalid-logloss:0.354206\n",
            "[225]\ttrain-logloss:0.247837\tvalid-logloss:0.354098\n",
            "[226]\ttrain-logloss:0.247594\tvalid-logloss:0.354022\n",
            "[227]\ttrain-logloss:0.247403\tvalid-logloss:0.353954\n",
            "[228]\ttrain-logloss:0.247051\tvalid-logloss:0.353898\n",
            "[229]\ttrain-logloss:0.246853\tvalid-logloss:0.353846\n",
            "[230]\ttrain-logloss:0.246505\tvalid-logloss:0.353779\n",
            "[231]\ttrain-logloss:0.246117\tvalid-logloss:0.353705\n",
            "[232]\ttrain-logloss:0.245894\tvalid-logloss:0.353671\n",
            "[233]\ttrain-logloss:0.245584\tvalid-logloss:0.353616\n",
            "[234]\ttrain-logloss:0.245161\tvalid-logloss:0.35353\n",
            "[235]\ttrain-logloss:0.244995\tvalid-logloss:0.353492\n",
            "[236]\ttrain-logloss:0.244846\tvalid-logloss:0.353435\n",
            "[237]\ttrain-logloss:0.244541\tvalid-logloss:0.353372\n",
            "[238]\ttrain-logloss:0.243961\tvalid-logloss:0.353272\n",
            "[239]\ttrain-logloss:0.243764\tvalid-logloss:0.35322\n",
            "[240]\ttrain-logloss:0.243543\tvalid-logloss:0.353183\n",
            "[241]\ttrain-logloss:0.243215\tvalid-logloss:0.353123\n",
            "[242]\ttrain-logloss:0.242927\tvalid-logloss:0.353051\n",
            "[243]\ttrain-logloss:0.242668\tvalid-logloss:0.353011\n",
            "[244]\ttrain-logloss:0.242134\tvalid-logloss:0.35291\n",
            "[245]\ttrain-logloss:0.241807\tvalid-logloss:0.352886\n",
            "[246]\ttrain-logloss:0.2415\tvalid-logloss:0.352819\n",
            "[247]\ttrain-logloss:0.241001\tvalid-logloss:0.35271\n",
            "[248]\ttrain-logloss:0.240683\tvalid-logloss:0.352671\n",
            "[249]\ttrain-logloss:0.240513\tvalid-logloss:0.352621\n",
            "[250]\ttrain-logloss:0.24018\tvalid-logloss:0.352544\n",
            "[251]\ttrain-logloss:0.239873\tvalid-logloss:0.352499\n",
            "[252]\ttrain-logloss:0.239463\tvalid-logloss:0.352435\n",
            "[253]\ttrain-logloss:0.239296\tvalid-logloss:0.352402\n",
            "[254]\ttrain-logloss:0.238999\tvalid-logloss:0.352353\n",
            "[255]\ttrain-logloss:0.238681\tvalid-logloss:0.352268\n",
            "[256]\ttrain-logloss:0.238456\tvalid-logloss:0.352199\n",
            "[257]\ttrain-logloss:0.238321\tvalid-logloss:0.352142\n",
            "[258]\ttrain-logloss:0.237922\tvalid-logloss:0.35207\n",
            "[259]\ttrain-logloss:0.237416\tvalid-logloss:0.352005\n",
            "[260]\ttrain-logloss:0.237135\tvalid-logloss:0.351941\n",
            "[261]\ttrain-logloss:0.236785\tvalid-logloss:0.351859\n",
            "[262]\ttrain-logloss:0.236486\tvalid-logloss:0.351799\n",
            "[263]\ttrain-logloss:0.236309\tvalid-logloss:0.351722\n",
            "[264]\ttrain-logloss:0.235841\tvalid-logloss:0.351664\n",
            "[265]\ttrain-logloss:0.235615\tvalid-logloss:0.351627\n",
            "[266]\ttrain-logloss:0.235284\tvalid-logloss:0.351565\n",
            "[267]\ttrain-logloss:0.234852\tvalid-logloss:0.351523\n",
            "[268]\ttrain-logloss:0.234616\tvalid-logloss:0.35145\n",
            "[269]\ttrain-logloss:0.234177\tvalid-logloss:0.35138\n",
            "[270]\ttrain-logloss:0.233901\tvalid-logloss:0.351334\n",
            "[271]\ttrain-logloss:0.233655\tvalid-logloss:0.351299\n",
            "[272]\ttrain-logloss:0.233265\tvalid-logloss:0.351277\n",
            "[273]\ttrain-logloss:0.232878\tvalid-logloss:0.351255\n",
            "[274]\ttrain-logloss:0.232732\tvalid-logloss:0.351195\n",
            "[275]\ttrain-logloss:0.23223\tvalid-logloss:0.351134\n",
            "[276]\ttrain-logloss:0.231936\tvalid-logloss:0.351102\n",
            "[277]\ttrain-logloss:0.231596\tvalid-logloss:0.351082\n",
            "[278]\ttrain-logloss:0.231193\tvalid-logloss:0.351028\n",
            "[279]\ttrain-logloss:0.230758\tvalid-logloss:0.350989\n",
            "[280]\ttrain-logloss:0.230651\tvalid-logloss:0.350951\n",
            "[281]\ttrain-logloss:0.230453\tvalid-logloss:0.350887\n",
            "[282]\ttrain-logloss:0.230022\tvalid-logloss:0.350835\n",
            "[283]\ttrain-logloss:0.229487\tvalid-logloss:0.350815\n",
            "[284]\ttrain-logloss:0.228944\tvalid-logloss:0.350746\n",
            "[285]\ttrain-logloss:0.22848\tvalid-logloss:0.350683\n",
            "[286]\ttrain-logloss:0.228083\tvalid-logloss:0.350641\n",
            "[287]\ttrain-logloss:0.227752\tvalid-logloss:0.350571\n",
            "[288]\ttrain-logloss:0.227451\tvalid-logloss:0.350525\n",
            "[289]\ttrain-logloss:0.227059\tvalid-logloss:0.350485\n",
            "[290]\ttrain-logloss:0.226786\tvalid-logloss:0.350451\n",
            "[291]\ttrain-logloss:0.226479\tvalid-logloss:0.350432\n",
            "[292]\ttrain-logloss:0.22616\tvalid-logloss:0.350398\n",
            "[293]\ttrain-logloss:0.225646\tvalid-logloss:0.350324\n",
            "[294]\ttrain-logloss:0.225187\tvalid-logloss:0.350278\n",
            "[295]\ttrain-logloss:0.224843\tvalid-logloss:0.350252\n",
            "[296]\ttrain-logloss:0.224571\tvalid-logloss:0.350199\n",
            "[297]\ttrain-logloss:0.224396\tvalid-logloss:0.350156\n",
            "[298]\ttrain-logloss:0.224091\tvalid-logloss:0.350097\n",
            "[299]\ttrain-logloss:0.223718\tvalid-logloss:0.350075\n",
            "[300]\ttrain-logloss:0.223576\tvalid-logloss:0.350038\n",
            "[301]\ttrain-logloss:0.223256\tvalid-logloss:0.350015\n",
            "[302]\ttrain-logloss:0.22297\tvalid-logloss:0.350011\n",
            "[303]\ttrain-logloss:0.222828\tvalid-logloss:0.349974\n",
            "[304]\ttrain-logloss:0.222665\tvalid-logloss:0.349923\n",
            "[305]\ttrain-logloss:0.222227\tvalid-logloss:0.349891\n",
            "[306]\ttrain-logloss:0.221969\tvalid-logloss:0.349828\n",
            "[307]\ttrain-logloss:0.221497\tvalid-logloss:0.349748\n",
            "[308]\ttrain-logloss:0.221325\tvalid-logloss:0.349705\n",
            "[309]\ttrain-logloss:0.220854\tvalid-logloss:0.349681\n",
            "[310]\ttrain-logloss:0.220412\tvalid-logloss:0.34963\n",
            "[311]\ttrain-logloss:0.220223\tvalid-logloss:0.349563\n",
            "[312]\ttrain-logloss:0.219876\tvalid-logloss:0.349559\n",
            "[313]\ttrain-logloss:0.219574\tvalid-logloss:0.349546\n",
            "[314]\ttrain-logloss:0.219303\tvalid-logloss:0.34952\n",
            "[315]\ttrain-logloss:0.219136\tvalid-logloss:0.349492\n",
            "[316]\ttrain-logloss:0.218938\tvalid-logloss:0.34946\n",
            "[317]\ttrain-logloss:0.218542\tvalid-logloss:0.349398\n",
            "[318]\ttrain-logloss:0.218277\tvalid-logloss:0.349382\n",
            "[319]\ttrain-logloss:0.218079\tvalid-logloss:0.349338\n",
            "[320]\ttrain-logloss:0.217917\tvalid-logloss:0.349298\n",
            "[321]\ttrain-logloss:0.217757\tvalid-logloss:0.349278\n",
            "[322]\ttrain-logloss:0.21765\tvalid-logloss:0.349246\n",
            "[323]\ttrain-logloss:0.217474\tvalid-logloss:0.349256\n",
            "[324]\ttrain-logloss:0.217106\tvalid-logloss:0.349227\n",
            "[325]\ttrain-logloss:0.216945\tvalid-logloss:0.349196\n",
            "[326]\ttrain-logloss:0.216596\tvalid-logloss:0.349167\n",
            "[327]\ttrain-logloss:0.216229\tvalid-logloss:0.349118\n",
            "[328]\ttrain-logloss:0.215996\tvalid-logloss:0.349097\n",
            "[329]\ttrain-logloss:0.215511\tvalid-logloss:0.349013\n",
            "[330]\ttrain-logloss:0.214896\tvalid-logloss:0.348973\n",
            "[331]\ttrain-logloss:0.214675\tvalid-logloss:0.348935\n",
            "[332]\ttrain-logloss:0.214524\tvalid-logloss:0.348895\n",
            "[333]\ttrain-logloss:0.214221\tvalid-logloss:0.348832\n",
            "[334]\ttrain-logloss:0.213879\tvalid-logloss:0.3488\n",
            "[335]\ttrain-logloss:0.213537\tvalid-logloss:0.348759\n",
            "[336]\ttrain-logloss:0.213411\tvalid-logloss:0.348738\n",
            "[337]\ttrain-logloss:0.213133\tvalid-logloss:0.348692\n",
            "[338]\ttrain-logloss:0.21261\tvalid-logloss:0.34868\n",
            "[339]\ttrain-logloss:0.212274\tvalid-logloss:0.348634\n",
            "[340]\ttrain-logloss:0.21215\tvalid-logloss:0.348623\n",
            "[341]\ttrain-logloss:0.211968\tvalid-logloss:0.348586\n",
            "[342]\ttrain-logloss:0.211424\tvalid-logloss:0.34855\n",
            "[343]\ttrain-logloss:0.21112\tvalid-logloss:0.348506\n",
            "[344]\ttrain-logloss:0.210771\tvalid-logloss:0.348459\n",
            "[345]\ttrain-logloss:0.210575\tvalid-logloss:0.348449\n",
            "[346]\ttrain-logloss:0.210037\tvalid-logloss:0.348403\n",
            "[347]\ttrain-logloss:0.209773\tvalid-logloss:0.348359\n",
            "[348]\ttrain-logloss:0.209298\tvalid-logloss:0.348353\n",
            "[349]\ttrain-logloss:0.208943\tvalid-logloss:0.348338\n",
            "[350]\ttrain-logloss:0.208688\tvalid-logloss:0.348307\n",
            "[351]\ttrain-logloss:0.208396\tvalid-logloss:0.348292\n",
            "[352]\ttrain-logloss:0.208127\tvalid-logloss:0.348273\n",
            "[353]\ttrain-logloss:0.207941\tvalid-logloss:0.348248\n",
            "[354]\ttrain-logloss:0.207602\tvalid-logloss:0.348215\n",
            "[355]\ttrain-logloss:0.207102\tvalid-logloss:0.34819\n",
            "[356]\ttrain-logloss:0.206579\tvalid-logloss:0.348146\n",
            "[357]\ttrain-logloss:0.206276\tvalid-logloss:0.348119\n",
            "[358]\ttrain-logloss:0.206146\tvalid-logloss:0.348104\n",
            "[359]\ttrain-logloss:0.205875\tvalid-logloss:0.34807\n",
            "[360]\ttrain-logloss:0.205597\tvalid-logloss:0.34804\n",
            "[361]\ttrain-logloss:0.205328\tvalid-logloss:0.348021\n",
            "[362]\ttrain-logloss:0.205078\tvalid-logloss:0.348002\n",
            "[363]\ttrain-logloss:0.204782\tvalid-logloss:0.347967\n",
            "[364]\ttrain-logloss:0.204503\tvalid-logloss:0.347916\n",
            "[365]\ttrain-logloss:0.20411\tvalid-logloss:0.347864\n",
            "[366]\ttrain-logloss:0.203496\tvalid-logloss:0.347797\n",
            "[367]\ttrain-logloss:0.203262\tvalid-logloss:0.347808\n",
            "[368]\ttrain-logloss:0.202886\tvalid-logloss:0.347767\n",
            "[369]\ttrain-logloss:0.20277\tvalid-logloss:0.34776\n",
            "[370]\ttrain-logloss:0.202309\tvalid-logloss:0.347716\n",
            "[371]\ttrain-logloss:0.201514\tvalid-logloss:0.347633\n",
            "[372]\ttrain-logloss:0.201036\tvalid-logloss:0.347638\n",
            "[373]\ttrain-logloss:0.200625\tvalid-logloss:0.347634\n",
            "[374]\ttrain-logloss:0.200371\tvalid-logloss:0.347579\n",
            "[375]\ttrain-logloss:0.199776\tvalid-logloss:0.347543\n",
            "[376]\ttrain-logloss:0.199693\tvalid-logloss:0.34753\n",
            "[377]\ttrain-logloss:0.199562\tvalid-logloss:0.347533\n",
            "[378]\ttrain-logloss:0.199382\tvalid-logloss:0.347492\n",
            "[379]\ttrain-logloss:0.19891\tvalid-logloss:0.347439\n",
            "[380]\ttrain-logloss:0.198344\tvalid-logloss:0.347387\n",
            "[381]\ttrain-logloss:0.198059\tvalid-logloss:0.347357\n",
            "[382]\ttrain-logloss:0.197897\tvalid-logloss:0.347346\n",
            "[383]\ttrain-logloss:0.19767\tvalid-logloss:0.347293\n",
            "[384]\ttrain-logloss:0.197243\tvalid-logloss:0.347252\n",
            "[385]\ttrain-logloss:0.196679\tvalid-logloss:0.347233\n",
            "[386]\ttrain-logloss:0.196495\tvalid-logloss:0.34718\n",
            "[387]\ttrain-logloss:0.196227\tvalid-logloss:0.347161\n",
            "[388]\ttrain-logloss:0.195968\tvalid-logloss:0.347166\n",
            "[389]\ttrain-logloss:0.195823\tvalid-logloss:0.347151\n",
            "[390]\ttrain-logloss:0.195556\tvalid-logloss:0.34711\n",
            "[391]\ttrain-logloss:0.195362\tvalid-logloss:0.347106\n",
            "[392]\ttrain-logloss:0.194908\tvalid-logloss:0.347047\n",
            "[393]\ttrain-logloss:0.1946\tvalid-logloss:0.347\n",
            "[394]\ttrain-logloss:0.194253\tvalid-logloss:0.346951\n",
            "[395]\ttrain-logloss:0.193802\tvalid-logloss:0.34691\n",
            "[396]\ttrain-logloss:0.193307\tvalid-logloss:0.346884\n",
            "[397]\ttrain-logloss:0.193085\tvalid-logloss:0.346857\n",
            "[398]\ttrain-logloss:0.192855\tvalid-logloss:0.34683\n",
            "[399]\ttrain-logloss:0.192769\tvalid-logloss:0.346815\n",
            "The test log loss is: 0.34681492133168695\n"
          ],
          "name": "stdout"
        }
      ]
    },
    {
      "cell_type": "code",
      "metadata": {
        "id": "adkaR-YDJl3o",
        "colab_type": "code",
        "colab": {}
      },
      "source": [
        "n_est = 100\n",
        "max_dep = 10\n",
        "xg_tr_log = 0.18\n",
        "xg_te_log = 0.32"
      ],
      "execution_count": null,
      "outputs": []
    },
    {
      "cell_type": "markdown",
      "metadata": {
        "id": "2PAYeTbJJpEg",
        "colab_type": "text"
      },
      "source": [
        "# Pretty Table"
      ]
    },
    {
      "cell_type": "code",
      "metadata": {
        "id": "YVo7JT450IUA",
        "colab_type": "code",
        "colab": {}
      },
      "source": [
        "lg_tr_a = 1e-05\n",
        "lg_te_a = 1e-05\n",
        "lg_tr_log = 0.45\n",
        "lg_te_log = 0.46"
      ],
      "execution_count": null,
      "outputs": []
    },
    {
      "cell_type": "code",
      "metadata": {
        "id": "taP7jlYu0bNU",
        "colab_type": "code",
        "colab": {}
      },
      "source": [
        "ln_tr_a = 1e-05\n",
        "ln_te_a = 1e-05\n",
        "ln_tr_log = 0.42\n",
        "ln_te_log = 0.42"
      ],
      "execution_count": null,
      "outputs": []
    },
    {
      "cell_type": "code",
      "metadata": {
        "id": "5XUklfJ11t8O",
        "colab_type": "code",
        "colab": {
          "base_uri": "https://localhost:8080/",
          "height": 170
        },
        "outputId": "adc6c177-55c7-4237-8370-23543f5882f9"
      },
      "source": [
        "from prettytable import PrettyTable\n",
        "\n",
        "a = PrettyTable()\n",
        "\n",
        "a.field_names = ['Algorithm', 'Vectorizer', 'Train Alpha', 'Train log_loss', 'Test Alpha', 'Test log_loss']\n",
        "\n",
        "a.add_row(['Logistic Regression', 'TF-IDF', lg_tr_a, lg_tr_log, lg_te_a, lg_te_log])\n",
        "a.add_row(['Linear SVM', 'TF-IDF', ln_tr_a, ln_tr_log, ln_te_a, ln_te_log])\n",
        "\n",
        "print()\n",
        "print(a.get_string(title = 'Table for Logistic and Linear regression'))\n",
        "\n",
        "print('\\n')"
      ],
      "execution_count": null,
      "outputs": [
        {
          "output_type": "stream",
          "text": [
            "\n",
            "+---------------------+------------+-------------+----------------+------------+---------------+\n",
            "|      Algorithm      | Vectorizer | Train Alpha | Train log_loss | Test Alpha | Test log_loss |\n",
            "+---------------------+------------+-------------+----------------+------------+---------------+\n",
            "| Logistic Regression |   TF-IDF   |    1e-05    |      0.45      |   1e-05    |      0.46     |\n",
            "|      Linear SVM     |   TF-IDF   |    1e-05    |      0.42      |   1e-05    |      0.42     |\n",
            "+---------------------+------------+-------------+----------------+------------+---------------+\n",
            "\n",
            "\n"
          ],
          "name": "stdout"
        }
      ]
    },
    {
      "cell_type": "code",
      "metadata": {
        "id": "90ZqADkeJmxi",
        "colab_type": "code",
        "colab": {
          "base_uri": "https://localhost:8080/",
          "height": 102
        },
        "outputId": "0906df83-9df5-4ad1-c671-71eb6e715322"
      },
      "source": [
        "\n",
        "\n",
        "from prettytable import PrettyTable\n",
        "\n",
        "b = PrettyTable()\n",
        "\n",
        "b.field_names = ['Algorithm', 'Vectorizer', 'Maximum Depth', 'Estimators', 'Train log_loss', 'Test log_loss']\n",
        "\n",
        "b.add_row(['XGBoost', 'TF-IDF Weighted Word2Vec', max_dep, n_est, xg_tr_log, xg_te_log])\n",
        "\n",
        "print(b.get_string(title = 'Table for XGBoost'))"
      ],
      "execution_count": null,
      "outputs": [
        {
          "output_type": "stream",
          "text": [
            "+-----------+--------------------------+---------------+------------+----------------+---------------+\n",
            "| Algorithm |        Vectorizer        | Maximum Depth | Estimators | Train log_loss | Test log_loss |\n",
            "+-----------+--------------------------+---------------+------------+----------------+---------------+\n",
            "|  XGBoost  | TF-IDF Weighted Word2Vec |       10      |    100     |      0.18      |      0.32     |\n",
            "+-----------+--------------------------+---------------+------------+----------------+---------------+\n"
          ],
          "name": "stdout"
        }
      ]
    },
    {
      "cell_type": "markdown",
      "metadata": {
        "id": "ktSpxiM3Jt0P",
        "colab_type": "text"
      },
      "source": [
        "# Conclusion:\n",
        "    \n",
        " - <b>Logistic Regression<b>\n",
        "\n",
        "With train alpha of 1e-05, train log loss is 0.45. With test alpha of 1e-05, test log loss is 0.46\n",
        "\n",
        " - <b>Linear SVM<b>\n",
        "\n",
        "With train alpha of 1e-05, train log loss is 0.42. With test alpha of 1e-05, test log loss is 0.46\n",
        "\n",
        " - <b>XGBoost<b>\n",
        "    \n",
        "With maximum depth of 10 and estimators of 100, train log loss is 0.18 and test log loss is 0.32.\n",
        "\n",
        "# Overall Conclusion:\n",
        "    \n",
        "We can conclude that XGBoost resulted in less log loss i.e 0.18 for train and 0.32 for test.\n",
        "\n",
        "XGBoost algorithm is better over logistic and linear regression algorithm.\n"
      ]
    },
    {
      "cell_type": "code",
      "metadata": {
        "id": "vPzRMsKfJyF8",
        "colab_type": "code",
        "colab": {}
      },
      "source": [
        ""
      ],
      "execution_count": null,
      "outputs": []
    },
    {
      "cell_type": "markdown",
      "metadata": {
        "id": "2Z3IQrAUJ6o7",
        "colab_type": "text"
      },
      "source": [
        "# Step-by-Step Procedure"
      ]
    },
    {
      "cell_type": "markdown",
      "metadata": {
        "id": "v62TN4epJ7Mh",
        "colab_type": "text"
      },
      "source": [
        "# Exploratory Data Analysis\n",
        "\n",
        " - Import the Quora dataset.\n",
        " - Exploring the data with size of dataframe, number of rows, number of columns, unique values, type of data and info of data.\n",
        " - Graphical representation of number of unique values, unique question pairs.\n",
        " - Removing duplicates, filling null values if any.\n",
        " \n",
        " \n",
        "# Basic Feature Engineering\n",
        " \n",
        " - ____freq_qid1____ = Frequency of qid1's\n",
        " - ____freq_qid2____ = Frequency of qid2's \n",
        " - ____q1len____ = Length of q1\n",
        " - ____q2len____ = Length of q2\n",
        " - ____q1_n_words____ = Number of words in Question 1\n",
        " - ____q2_n_words____ = Number of words in Question 2\n",
        " - ____word_Common____ = (Number of common unique words in Question 1 and Question 2)\n",
        " - ____word_Total____ =(Total num of words in Question 1 + Total num of words in Question 2)\n",
        " - ____word_share____ = (word_common)/(word_Total)\n",
        " - ____freq_q1+freq_q2____ = sum total of frequency of qid1 and qid2 \n",
        " - ____freq_q1-freq_q2____ = absolute difference of frequency of qid1 and qid2 \n",
        " \n",
        "After applying basic feature engineering, exploring the dataset as follows:\n",
        "\n",
        " - ____Plotting Word_Share:____ Word share is nothing but the common words divided by total words (common words/total words)\n",
        " - ____Plotting Common:____ (Number of common unique words in Question 1 and Question 2)\n",
        " \n",
        "# Text Preprocessing:\n",
        "\n",
        "- Remove HTML tag\n",
        "- Remove punctuations and numbers\n",
        "- Remove URLs\n",
        "- Expanding contraction words\n",
        "- Stop-word removal\n",
        "- Stemming\n",
        "- Change it to lowercase and join it\n",
        "\n",
        "# Advance Feature Engineering\n",
        "\n",
        "Definition:\n",
        "- __Token__: You get a token by splitting sentence a space\n",
        "- __Stop_Word__ : stop words as per NLTK.\n",
        "- __Word__ : A token that is not a stop_word\n",
        "\n",
        "\n",
        "Features:\n",
        "- __cwc_min__ :  Ratio of common_word_count to min lenghth of word count of Q1 and Q2 <br>cwc_min = common_word_count / (min(len(q1_words), len(q2_words))\n",
        "\n",
        "\n",
        "- __cwc_max__ :  Ratio of common_word_count to max lenghth of word count of Q1 and Q2 <br>cwc_max = common_word_count / (max(len(q1_words), len(q2_words))\n",
        "\n",
        "\n",
        "- __csc_min__ :  Ratio of common_stop_count to min lenghth of stop count of Q1 and Q2 <br> csc_min = common_stop_count / (min(len(q1_stops), len(q2_stops))\n",
        "\n",
        "\n",
        "- __csc_max__ :  Ratio of common_stop_count to max lenghth of stop count of Q1 and Q2<br>csc_max = common_stop_count / (max(len(q1_stops), len(q2_stops))\n",
        "\n",
        "\n",
        "- __ctc_min__ :  Ratio of common_token_count to min lenghth of token count of Q1 and Q2<br>ctc_min = common_token_count / (min(len(q1_tokens), len(q2_tokens))\n",
        "\n",
        "\n",
        "- __ctc_max__ :  Ratio of common_token_count to max lenghth of token count of Q1 and Q2<br>ctc_max = common_token_count / (max(len(q1_tokens), len(q2_tokens))\n",
        "        \n",
        "\n",
        "- __last_word_eq__ :  Check if First word of both questions is equal or not<br>last_word_eq = int(q1_tokens[-1] == q2_tokens[-1])\n",
        "\n",
        "\n",
        "- __first_word_eq__ :  Check if First word of both questions is equal or not<br>first_word_eq = int(q1_tokens[0] == q2_tokens[0])\n",
        "        \n",
        "\n",
        "- __abs_len_diff__ :  Abs. length difference<br>abs_len_diff = abs(len(q1_tokens) - len(q2_tokens))\n",
        "\n",
        "\n",
        "- __mean_len__ :  Average Token Length of both Questions<br>mean_len = (len(q1_tokens) + len(q2_tokens))/2\n",
        "\n",
        "\n",
        "- __longest_substr_ratio__ :  Ratio of length longest common substring to min lenghth of token count of Q1 and Q2 longest_substr_ratio = len(longest common substring) / (min(len(q1_tokens), len(q2_tokens))\n",
        "\n",
        "\n",
        "# Data Analysis After Advance Feature Engineering\n",
        "\n",
        " - Pair plot of features ['ctc_min', 'cwc_min', 'csc_min', 'token_sort_ratio'] in order to understand how well question pairs can be separated.\n",
        " \n",
        " - Distribution plot and violin is plotted to analyse how well question pars can be separated.\n",
        " \n",
        "# T-SNE:\n",
        "\n",
        " - We are applying T-SNE to reduce dimension and visualize with 2 dimension and 3 dimension to understand how well question pairs can be separated.\n",
        "    \n",
        "# Creating Final Dataframe:\n",
        "\n",
        " - We have obtained 3 dataframes i.e 1- original dataframe, 2- Basic feature engineering dataframe and 3- Advance feature engineering dataframe.\n",
        " \n",
        " - We will concatinate/merge all 3 dataframes and then remove unwanted columns from it.\n",
        " \n",
        "# Machine Learning: Logistic and Linear Regression\n",
        "\n",
        " - __Data Preparation__-\n",
        "     - __Train Test Split__- Data is splitted into train and test set.\n",
        "     - __TFIDF Vectorizer__- Vectorised question1 and question2 of train and test set.\n",
        "     - __Merge vectorized question pairs__- Vectorized questions pairs are are merged with final dataframe and dropping question1 and question2 which has text data.\n",
        "     \n",
        "\n",
        " - ____Logistic Regression____-\n",
        "     - Applying Logistic Regression to find the log loss as least as possible.\n",
        "     - Then visualizing the result with confusion matrix, precision and recall with heatmap.\n",
        "     \n",
        " \n",
        " - ____Linear Regression____-\n",
        "     - Applying Linear Regression to find the log loss as least as possible.\n",
        "     - Then visualizing the result with confusion matrix, precision and recall with heatmap.\n",
        " \n",
        " \n",
        "# Machine Learning: XGBOOST\n",
        "\n",
        " - __Data Preparation__-\n",
        " \n",
        "     - __Train Test Split__- Data is splitted into train and test set.\n",
        "     - __TFIDF Vectorizer__- Vectorised question1 and question2 of train and test set.\n",
        "     - __TFIDF Weighted Word2Vec__- Applying TFIDF Weighted Word2Vec on question pairs to get the text data in vector form.\n",
        "     \n",
        "\n",
        "- ___XGBOOST___-\n",
        " \n",
        "     - Applying XGBOOST to find the log loss as least as possible.\n",
        "     - Then visualizing the result with confusion matrix, precision and recall with heatmap.\n",
        "     \n",
        "# Pretty Table:\n",
        "\n",
        " - Pretty table is to represent the acquired log loss values corresponding to vectorizer.\n",
        "     \n",
        "# Conclusion:\n",
        "\n",
        " - Comparing the log loss for Logistic Regression, Linear Regression and XGBOOST and then find the best machine algorithm on the basis on least log loss.\n",
        " \n",
        " - In above case, we found XGBOOST to be best algorithm as it gave less log loss when compared to Logistic and Linear Regression."
      ]
    }
  ]
}